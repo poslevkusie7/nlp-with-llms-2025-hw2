{
 "cells": [
  {
   "cell_type": "markdown",
   "id": "a5b8c418",
   "metadata": {},
   "source": [
    "# Exploring the ImpPres Dataset\n",
    "\n",
    "The https://huggingface.co/datasets/facebook/imppres dataset was introduced in *\"Are Natural Language Inference Models IMPPRESsive? Learning IMPlicature and PRESupposition\"*, Jeretivc et al, ACL 2020, https://www.aclweb.org/anthology/2020.acl-main.768\" to investigate the pragmatic inference capabilities of NLI models.\n",
    "\n",
    "It was created by synthesizing pairs (premise, hypothesis) according to different templates predicted by pragmatic analysis, for presuppositions triggered by different linguistic forms and implicatures of different forms.  Each sample is grouped in \"paradigms\" (groups of related pairs) that test the predicted relation between premise and hypothesis according to linguistic transformations.  For example, given a pair (premise, presupposition), the paradigm will include (negated-premise, presupposition), (question-premise, presupposition), (condition-premise, presupposition), (premise, negated-presupposition) etc.  If a model detects that the relation (premise, presupposition) is a form of \"presupposition entailment\", then it should consistently label the other members of the group according to linguistic predictions.\n",
    "\n",
    "\n",
    "\n"
   ]
  },
  {
   "cell_type": "code",
   "execution_count": 1,
   "id": "c0227b7d",
   "metadata": {},
   "outputs": [],
   "source": [
    "from datasets import load_dataset\n",
    "sections = ['implicature_connectives', 'implicature_gradable_adjective', 'implicature_gradable_verb', 'implicature_modals', 'implicature_numerals_10_100', 'implicature_numerals_2_3', 'implicature_quantifiers', 'presupposition_all_n_presupposition', 'presupposition_both_presupposition', 'presupposition_change_of_state', 'presupposition_cleft_existence', 'presupposition_cleft_uniqueness', 'presupposition_only_presupposition', 'presupposition_possessed_definites_existence', 'presupposition_possessed_definites_uniqueness', 'presupposition_question_presupposition']\n",
    "\n",
    "\n",
    "imp_connectives = load_dataset(\"facebook/imppres\", sections[0])\n"
   ]
  },
  {
   "cell_type": "code",
   "execution_count": 2,
   "id": "653292e9",
   "metadata": {},
   "outputs": [
    {
     "data": {
      "text/plain": [
       "DatasetDict({\n",
       "    connectives: Dataset({\n",
       "        features: ['premise', 'hypothesis', 'gold_label_log', 'gold_label_prag', 'spec_relation', 'item_type', 'trigger', 'lexemes'],\n",
       "        num_rows: 1200\n",
       "    })\n",
       "})"
      ]
     },
     "execution_count": 2,
     "metadata": {},
     "output_type": "execute_result"
    }
   ],
   "source": [
    "imp_connectives"
   ]
  },
  {
   "cell_type": "code",
   "execution_count": 3,
   "id": "af2406d6",
   "metadata": {},
   "outputs": [
    {
     "data": {
      "text/plain": [
       "{'premise': 'These computers or dresses would irritate Veronica.',\n",
       " 'hypothesis': \"These computers and dresses wouldn't both irritate Veronica.\",\n",
       " 'gold_label_log': 1,\n",
       " 'gold_label_prag': 0,\n",
       " 'spec_relation': 'implicature_PtoN',\n",
       " 'item_type': 'target',\n",
       " 'trigger': 'connective',\n",
       " 'lexemes': 'or - and'}"
      ]
     },
     "execution_count": 3,
     "metadata": {},
     "output_type": "execute_result"
    }
   ],
   "source": [
    "imp_connectives['connectives'][0]"
   ]
  },
  {
   "cell_type": "code",
   "execution_count": 4,
   "id": "5a66c85a",
   "metadata": {},
   "outputs": [
    {
     "name": "stderr",
     "output_type": "stream",
     "text": [
      "Xet Storage is enabled for this repo, but the 'hf_xet' package is not installed. Falling back to regular HTTP download. For better performance, install the package with: `pip install huggingface_hub[hf_xet]` or `pip install hf_xet`\n"
     ]
    },
    {
     "data": {
      "application/vnd.jupyter.widget-view+json": {
       "model_id": "dc3179dd4a7f4928962c8bd8e6a57e59",
       "version_major": 2,
       "version_minor": 0
      },
      "text/plain": [
       "change_of_state-00000-of-00001.parquet:   0%|          | 0.00/35.8k [00:00<?, ?B/s]"
      ]
     },
     "metadata": {},
     "output_type": "display_data"
    },
    {
     "name": "stderr",
     "output_type": "stream",
     "text": [
      "c:\\Users\\idol\\Desktop\\University\\Simester F\\LLM\\ass2\\nlp-with-llms-2025-hw2\\.venv\\Lib\\site-packages\\huggingface_hub\\file_download.py:143: UserWarning: `huggingface_hub` cache-system uses symlinks by default to efficiently store duplicated files but your machine does not support them in C:\\Users\\idol\\.cache\\huggingface\\hub\\datasets--facebook--imppres. Caching files will still work but in a degraded version that might require more space on your disk. This warning can be disabled by setting the `HF_HUB_DISABLE_SYMLINKS_WARNING` environment variable. For more details, see https://huggingface.co/docs/huggingface_hub/how-to-cache#limitations.\n",
      "To support symlinks on Windows, you either need to activate Developer Mode or to run Python as an administrator. In order to activate developer mode, see this article: https://docs.microsoft.com/en-us/windows/apps/get-started/enable-your-device-for-development\n",
      "  warnings.warn(message)\n"
     ]
    },
    {
     "data": {
      "application/vnd.jupyter.widget-view+json": {
       "model_id": "a4ec7e3f04ae497086a36664a3feb803",
       "version_major": 2,
       "version_minor": 0
      },
      "text/plain": [
       "Generating change_of_state split:   0%|          | 0/1900 [00:00<?, ? examples/s]"
      ]
     },
     "metadata": {},
     "output_type": "display_data"
    }
   ],
   "source": [
    "pcos = load_dataset(\"facebook/imppres\", \"presupposition_change_of_state\")"
   ]
  },
  {
   "cell_type": "markdown",
   "id": "02c5fc6e",
   "metadata": {},
   "source": []
  },
  {
   "cell_type": "code",
   "execution_count": 5,
   "id": "a273020f",
   "metadata": {},
   "outputs": [
    {
     "data": {
      "text/plain": [
       "DatasetDict({\n",
       "    change_of_state: Dataset({\n",
       "        features: ['premise', 'hypothesis', 'trigger', 'trigger1', 'trigger2', 'presupposition', 'gold_label', 'UID', 'pairID', 'paradigmID'],\n",
       "        num_rows: 1900\n",
       "    })\n",
       "})"
      ]
     },
     "execution_count": 5,
     "metadata": {},
     "output_type": "execute_result"
    }
   ],
   "source": [
    "pcos"
   ]
  },
  {
   "cell_type": "code",
   "execution_count": 12,
   "id": "c78f2797",
   "metadata": {},
   "outputs": [
    {
     "data": {
      "text/plain": [
       "{'premise': \"The guest hadn't found John.\",\n",
       " 'hypothesis': 'Peter used to be in an unknown location.',\n",
       " 'trigger': 'negated',\n",
       " 'trigger1': 'Not_In_Example',\n",
       " 'trigger2': 'Not_In_Example',\n",
       " 'presupposition': 'neutral',\n",
       " 'gold_label': 1,\n",
       " 'UID': 'change_of_state',\n",
       " 'pairID': '5n',\n",
       " 'paradigmID': 0}"
      ]
     },
     "execution_count": 12,
     "metadata": {},
     "output_type": "execute_result"
    }
   ],
   "source": [
    "pcos['change_of_state'][5]"
   ]
  },
  {
   "cell_type": "code",
   "execution_count": 13,
   "id": "8e6ddd37",
   "metadata": {},
   "outputs": [
    {
     "name": "stdout",
     "output_type": "stream",
     "text": [
      "[0, 1, 2, 3, 4, 5, 6, 7, 8, 9, 10, 11, 12, 13, 14, 15, 16, 17, 18, 19, 20, 21, 22, 23, 24, 25, 26, 27, 28, 29, 30, 31, 32, 33, 34, 35, 36, 37, 38, 39, 40, 41, 42, 43, 44, 45, 46, 47, 48, 49, 50, 51, 52, 53, 54, 55, 56, 57, 58, 59, 60, 61, 62, 63, 64, 65, 66, 67, 68, 69, 70, 71, 72, 73, 74, 75, 76, 77, 78, 79, 80, 81, 82, 83, 84, 85, 86, 87, 88, 89, 90, 91, 92, 93, 94, 95, 96, 97, 98, 99]\n"
     ]
    }
   ],
   "source": [
    "print(list(set([s['paradigmID'] for s in pcos['change_of_state']])))"
   ]
  },
  {
   "cell_type": "code",
   "execution_count": 14,
   "id": "02f9ae46",
   "metadata": {},
   "outputs": [],
   "source": [
    "def get_paradigm(dataset, paradigm_id):\n",
    "    return [s for s in dataset if s['paradigmID'] == paradigm_id]"
   ]
  },
  {
   "cell_type": "code",
   "execution_count": 15,
   "id": "28e5fea6",
   "metadata": {},
   "outputs": [
    {
     "data": {
      "text/plain": [
       "[{'premise': 'The guest had found John.',\n",
       "  'hypothesis': 'John used to be in an unknown location.',\n",
       "  'trigger': 'unembedded',\n",
       "  'trigger1': 'Not_In_Example',\n",
       "  'trigger2': 'Not_In_Example',\n",
       "  'presupposition': 'positive',\n",
       "  'gold_label': 0,\n",
       "  'UID': 'change_of_state',\n",
       "  'pairID': '0e',\n",
       "  'paradigmID': 0},\n",
       " {'premise': 'The guest had found John.',\n",
       "  'hypothesis': \"John didn't used to be in an unknown location.\",\n",
       "  'trigger': 'unembedded',\n",
       "  'trigger1': 'Not_In_Example',\n",
       "  'trigger2': 'Not_In_Example',\n",
       "  'presupposition': 'negated',\n",
       "  'gold_label': 2,\n",
       "  'UID': 'change_of_state',\n",
       "  'pairID': '1c',\n",
       "  'paradigmID': 0},\n",
       " {'premise': 'The guest had found John.',\n",
       "  'hypothesis': 'Peter used to be in an unknown location.',\n",
       "  'trigger': 'unembedded',\n",
       "  'trigger1': 'Not_In_Example',\n",
       "  'trigger2': 'Not_In_Example',\n",
       "  'presupposition': 'neutral',\n",
       "  'gold_label': 1,\n",
       "  'UID': 'change_of_state',\n",
       "  'pairID': '2n',\n",
       "  'paradigmID': 0},\n",
       " {'premise': \"The guest hadn't found John.\",\n",
       "  'hypothesis': 'John used to be in an unknown location.',\n",
       "  'trigger': 'negated',\n",
       "  'trigger1': 'Not_In_Example',\n",
       "  'trigger2': 'Not_In_Example',\n",
       "  'presupposition': 'positive',\n",
       "  'gold_label': 0,\n",
       "  'UID': 'change_of_state',\n",
       "  'pairID': '3e',\n",
       "  'paradigmID': 0},\n",
       " {'premise': \"The guest hadn't found John.\",\n",
       "  'hypothesis': \"John didn't used to be in an unknown location.\",\n",
       "  'trigger': 'negated',\n",
       "  'trigger1': 'Not_In_Example',\n",
       "  'trigger2': 'Not_In_Example',\n",
       "  'presupposition': 'negated',\n",
       "  'gold_label': 2,\n",
       "  'UID': 'change_of_state',\n",
       "  'pairID': '4c',\n",
       "  'paradigmID': 0},\n",
       " {'premise': \"The guest hadn't found John.\",\n",
       "  'hypothesis': 'Peter used to be in an unknown location.',\n",
       "  'trigger': 'negated',\n",
       "  'trigger1': 'Not_In_Example',\n",
       "  'trigger2': 'Not_In_Example',\n",
       "  'presupposition': 'neutral',\n",
       "  'gold_label': 1,\n",
       "  'UID': 'change_of_state',\n",
       "  'pairID': '5n',\n",
       "  'paradigmID': 0},\n",
       " {'premise': 'Had the guest found John?',\n",
       "  'hypothesis': 'John used to be in an unknown location.',\n",
       "  'trigger': 'interrogative',\n",
       "  'trigger1': 'Not_In_Example',\n",
       "  'trigger2': 'Not_In_Example',\n",
       "  'presupposition': 'positive',\n",
       "  'gold_label': 0,\n",
       "  'UID': 'change_of_state',\n",
       "  'pairID': '6e',\n",
       "  'paradigmID': 0},\n",
       " {'premise': 'Had the guest found John?',\n",
       "  'hypothesis': \"John didn't used to be in an unknown location.\",\n",
       "  'trigger': 'interrogative',\n",
       "  'trigger1': 'Not_In_Example',\n",
       "  'trigger2': 'Not_In_Example',\n",
       "  'presupposition': 'negated',\n",
       "  'gold_label': 2,\n",
       "  'UID': 'change_of_state',\n",
       "  'pairID': '7c',\n",
       "  'paradigmID': 0},\n",
       " {'premise': 'Had the guest found John?',\n",
       "  'hypothesis': 'Peter used to be in an unknown location.',\n",
       "  'trigger': 'interrogative',\n",
       "  'trigger1': 'Not_In_Example',\n",
       "  'trigger2': 'Not_In_Example',\n",
       "  'presupposition': 'neutral',\n",
       "  'gold_label': 1,\n",
       "  'UID': 'change_of_state',\n",
       "  'pairID': '8n',\n",
       "  'paradigmID': 0},\n",
       " {'premise': 'The guest might have found John.',\n",
       "  'hypothesis': 'John used to be in an unknown location.',\n",
       "  'trigger': 'modal',\n",
       "  'trigger1': 'Not_In_Example',\n",
       "  'trigger2': 'Not_In_Example',\n",
       "  'presupposition': 'positive',\n",
       "  'gold_label': 0,\n",
       "  'UID': 'change_of_state',\n",
       "  'pairID': '9e',\n",
       "  'paradigmID': 0},\n",
       " {'premise': 'The guest might have found John.',\n",
       "  'hypothesis': \"John didn't used to be in an unknown location.\",\n",
       "  'trigger': 'modal',\n",
       "  'trigger1': 'Not_In_Example',\n",
       "  'trigger2': 'Not_In_Example',\n",
       "  'presupposition': 'negated',\n",
       "  'gold_label': 2,\n",
       "  'UID': 'change_of_state',\n",
       "  'pairID': '10c',\n",
       "  'paradigmID': 0},\n",
       " {'premise': 'The guest might have found John.',\n",
       "  'hypothesis': 'Peter used to be in an unknown location.',\n",
       "  'trigger': 'modal',\n",
       "  'trigger1': 'Not_In_Example',\n",
       "  'trigger2': 'Not_In_Example',\n",
       "  'presupposition': 'neutral',\n",
       "  'gold_label': 1,\n",
       "  'UID': 'change_of_state',\n",
       "  'pairID': '11n',\n",
       "  'paradigmID': 0},\n",
       " {'premise': \"If the guest had found John, it's okay.\",\n",
       "  'hypothesis': 'John used to be in an unknown location.',\n",
       "  'trigger': 'conditional',\n",
       "  'trigger1': 'Not_In_Example',\n",
       "  'trigger2': 'Not_In_Example',\n",
       "  'presupposition': 'positive',\n",
       "  'gold_label': 0,\n",
       "  'UID': 'change_of_state',\n",
       "  'pairID': '12e',\n",
       "  'paradigmID': 0},\n",
       " {'premise': \"If the guest had found John, it's okay.\",\n",
       "  'hypothesis': \"John didn't used to be in an unknown location.\",\n",
       "  'trigger': 'conditional',\n",
       "  'trigger1': 'Not_In_Example',\n",
       "  'trigger2': 'Not_In_Example',\n",
       "  'presupposition': 'negated',\n",
       "  'gold_label': 2,\n",
       "  'UID': 'change_of_state',\n",
       "  'pairID': '13c',\n",
       "  'paradigmID': 0},\n",
       " {'premise': \"If the guest had found John, it's okay.\",\n",
       "  'hypothesis': 'Peter used to be in an unknown location.',\n",
       "  'trigger': 'conditional',\n",
       "  'trigger1': 'Not_In_Example',\n",
       "  'trigger2': 'Not_In_Example',\n",
       "  'presupposition': 'neutral',\n",
       "  'gold_label': 1,\n",
       "  'UID': 'change_of_state',\n",
       "  'pairID': '14n',\n",
       "  'paradigmID': 0},\n",
       " {'premise': \"The guest hadn't found John.\",\n",
       "  'hypothesis': 'The guest had found John.',\n",
       "  'trigger': 'Not_In_Example',\n",
       "  'trigger1': 'negated',\n",
       "  'trigger2': 'unembedded',\n",
       "  'presupposition': 'Not_In_Example',\n",
       "  'gold_label': 2,\n",
       "  'UID': 'change_of_state',\n",
       "  'pairID': '15c',\n",
       "  'paradigmID': 0},\n",
       " {'premise': 'Had the guest found John?',\n",
       "  'hypothesis': 'The guest had found John.',\n",
       "  'trigger': 'Not_In_Example',\n",
       "  'trigger1': 'interrogative',\n",
       "  'trigger2': 'unembedded',\n",
       "  'presupposition': 'Not_In_Example',\n",
       "  'gold_label': 1,\n",
       "  'UID': 'change_of_state',\n",
       "  'pairID': '16n',\n",
       "  'paradigmID': 0},\n",
       " {'premise': 'The guest might have found John.',\n",
       "  'hypothesis': 'The guest had found John.',\n",
       "  'trigger': 'Not_In_Example',\n",
       "  'trigger1': 'modal',\n",
       "  'trigger2': 'unembedded',\n",
       "  'presupposition': 'Not_In_Example',\n",
       "  'gold_label': 1,\n",
       "  'UID': 'change_of_state',\n",
       "  'pairID': '17n',\n",
       "  'paradigmID': 0},\n",
       " {'premise': \"If the guest had found John, it's okay.\",\n",
       "  'hypothesis': 'The guest had found John.',\n",
       "  'trigger': 'Not_In_Example',\n",
       "  'trigger1': 'conditional',\n",
       "  'trigger2': 'unembedded',\n",
       "  'presupposition': 'Not_In_Example',\n",
       "  'gold_label': 1,\n",
       "  'UID': 'change_of_state',\n",
       "  'pairID': '18n',\n",
       "  'paradigmID': 0}]"
      ]
     },
     "execution_count": 15,
     "metadata": {},
     "output_type": "execute_result"
    }
   ],
   "source": [
    "get_paradigm(pcos['change_of_state'], 0)"
   ]
  },
  {
   "cell_type": "code",
   "execution_count": 16,
   "id": "782499a9",
   "metadata": {},
   "outputs": [
    {
     "name": "stderr",
     "output_type": "stream",
     "text": [
      "Xet Storage is enabled for this repo, but the 'hf_xet' package is not installed. Falling back to regular HTTP download. For better performance, install the package with: `pip install huggingface_hub[hf_xet]` or `pip install hf_xet`\n"
     ]
    },
    {
     "data": {
      "application/vnd.jupyter.widget-view+json": {
       "model_id": "2355a3344aa54010be590733f0651731",
       "version_major": 2,
       "version_minor": 0
      },
      "text/plain": [
       "(…)ly_presupposition-00000-of-00001.parquet:   0%|          | 0.00/38.1k [00:00<?, ?B/s]"
      ]
     },
     "metadata": {},
     "output_type": "display_data"
    },
    {
     "data": {
      "application/vnd.jupyter.widget-view+json": {
       "model_id": "fff7dacd1fad417e801e34f3f9727c9b",
       "version_major": 2,
       "version_minor": 0
      },
      "text/plain": [
       "Generating only_presupposition split:   0%|          | 0/1900 [00:00<?, ? examples/s]"
      ]
     },
     "metadata": {},
     "output_type": "display_data"
    }
   ],
   "source": [
    "pop = load_dataset(\"facebook/imppres\", \"presupposition_only_presupposition\")"
   ]
  },
  {
   "cell_type": "code",
   "execution_count": 17,
   "id": "2744d4c4",
   "metadata": {},
   "outputs": [
    {
     "data": {
      "text/plain": [
       "DatasetDict({\n",
       "    only_presupposition: Dataset({\n",
       "        features: ['premise', 'hypothesis', 'trigger', 'trigger1', 'trigger2', 'presupposition', 'gold_label', 'UID', 'pairID', 'paradigmID'],\n",
       "        num_rows: 1900\n",
       "    })\n",
       "})"
      ]
     },
     "execution_count": 17,
     "metadata": {},
     "output_type": "execute_result"
    }
   ],
   "source": [
    "pop"
   ]
  },
  {
   "cell_type": "code",
   "execution_count": 18,
   "id": "bfb1b19b",
   "metadata": {},
   "outputs": [
    {
     "data": {
      "text/plain": [
       "DatasetDict({\n",
       "    change_of_state: Dataset({\n",
       "        features: ['premise', 'hypothesis', 'trigger', 'trigger1', 'trigger2', 'presupposition', 'gold_label', 'UID', 'pairID', 'paradigmID'],\n",
       "        num_rows: 1900\n",
       "    })\n",
       "})"
      ]
     },
     "execution_count": 18,
     "metadata": {},
     "output_type": "execute_result"
    }
   ],
   "source": [
    "pcos"
   ]
  },
  {
   "cell_type": "markdown",
   "id": "a68984aa",
   "metadata": {},
   "source": [
    "## Unify the Datasets\n",
    "\n",
    "Your task is to create a new dataset that \n",
    "* Has all the lines from the presupposition sections of ImprPres \n",
    "    * ['presupposition_all_n_presupposition', 'presupposition_both_presupposition', 'presupposition_change_of_state', 'presupposition_cleft_existence', 'presupposition_cleft_uniqueness', 'presupposition_only_presupposition', 'presupposition_possessed_definites_existence', 'presupposition_possessed_definites_uniqueness', 'presupposition_question_presupposition']\n",
    "* Has one more column which is the name of the section:\n",
    "    * ['premise', 'hypothesis', 'trigger', 'trigger1', 'trigger2', 'presupposition', 'gold_label', 'UID', 'pairID', 'paradigmID', 'section']"
   ]
  },
  {
   "cell_type": "markdown",
   "id": "2e059777",
   "metadata": {},
   "source": []
  },
  {
   "cell_type": "code",
   "execution_count": 3,
   "id": "c7d93f6b",
   "metadata": {},
   "outputs": [
    {
     "name": "stdout",
     "output_type": "stream",
     "text": [
      "Combined dataset shape: (17100, 11)\n"
     ]
    },
    {
     "data": {
      "text/html": [
       "<div>\n",
       "<style scoped>\n",
       "    .dataframe tbody tr th:only-of-type {\n",
       "        vertical-align: middle;\n",
       "    }\n",
       "\n",
       "    .dataframe tbody tr th {\n",
       "        vertical-align: top;\n",
       "    }\n",
       "\n",
       "    .dataframe thead th {\n",
       "        text-align: right;\n",
       "    }\n",
       "</style>\n",
       "<table border=\"1\" class=\"dataframe\">\n",
       "  <thead>\n",
       "    <tr style=\"text-align: right;\">\n",
       "      <th></th>\n",
       "      <th>premise</th>\n",
       "      <th>hypothesis</th>\n",
       "      <th>trigger</th>\n",
       "      <th>trigger1</th>\n",
       "      <th>trigger2</th>\n",
       "      <th>presupposition</th>\n",
       "      <th>gold_label</th>\n",
       "      <th>UID</th>\n",
       "      <th>pairID</th>\n",
       "      <th>paradigmID</th>\n",
       "      <th>section</th>\n",
       "    </tr>\n",
       "  </thead>\n",
       "  <tbody>\n",
       "    <tr>\n",
       "      <th>0</th>\n",
       "      <td>All ten guys that proved to boast were divorcing.</td>\n",
       "      <td>There are exactly ten guys that proved to boast.</td>\n",
       "      <td>unembedded</td>\n",
       "      <td>Not_In_Example</td>\n",
       "      <td>Not_In_Example</td>\n",
       "      <td>positive</td>\n",
       "      <td>0</td>\n",
       "      <td>all_n_presupposition</td>\n",
       "      <td>0e</td>\n",
       "      <td>0</td>\n",
       "      <td>all_n_presupposition</td>\n",
       "    </tr>\n",
       "    <tr>\n",
       "      <th>1</th>\n",
       "      <td>All ten guys that proved to boast were divorcing.</td>\n",
       "      <td>There are exactly eleven guys that proved to b...</td>\n",
       "      <td>unembedded</td>\n",
       "      <td>Not_In_Example</td>\n",
       "      <td>Not_In_Example</td>\n",
       "      <td>negated</td>\n",
       "      <td>2</td>\n",
       "      <td>all_n_presupposition</td>\n",
       "      <td>1c</td>\n",
       "      <td>0</td>\n",
       "      <td>all_n_presupposition</td>\n",
       "    </tr>\n",
       "    <tr>\n",
       "      <th>2</th>\n",
       "      <td>All ten guys that proved to boast were divorcing.</td>\n",
       "      <td>There are exactly ten senators that proved to ...</td>\n",
       "      <td>unembedded</td>\n",
       "      <td>Not_In_Example</td>\n",
       "      <td>Not_In_Example</td>\n",
       "      <td>neutral</td>\n",
       "      <td>1</td>\n",
       "      <td>all_n_presupposition</td>\n",
       "      <td>2n</td>\n",
       "      <td>0</td>\n",
       "      <td>all_n_presupposition</td>\n",
       "    </tr>\n",
       "    <tr>\n",
       "      <th>3</th>\n",
       "      <td>All ten guys that proved to boast weren't divo...</td>\n",
       "      <td>There are exactly ten guys that proved to boast.</td>\n",
       "      <td>negated</td>\n",
       "      <td>Not_In_Example</td>\n",
       "      <td>Not_In_Example</td>\n",
       "      <td>positive</td>\n",
       "      <td>0</td>\n",
       "      <td>all_n_presupposition</td>\n",
       "      <td>3e</td>\n",
       "      <td>0</td>\n",
       "      <td>all_n_presupposition</td>\n",
       "    </tr>\n",
       "    <tr>\n",
       "      <th>4</th>\n",
       "      <td>All ten guys that proved to boast weren't divo...</td>\n",
       "      <td>There are exactly eleven guys that proved to b...</td>\n",
       "      <td>negated</td>\n",
       "      <td>Not_In_Example</td>\n",
       "      <td>Not_In_Example</td>\n",
       "      <td>negated</td>\n",
       "      <td>2</td>\n",
       "      <td>all_n_presupposition</td>\n",
       "      <td>4c</td>\n",
       "      <td>0</td>\n",
       "      <td>all_n_presupposition</td>\n",
       "    </tr>\n",
       "  </tbody>\n",
       "</table>\n",
       "</div>"
      ],
      "text/plain": [
       "                                             premise  \\\n",
       "0  All ten guys that proved to boast were divorcing.   \n",
       "1  All ten guys that proved to boast were divorcing.   \n",
       "2  All ten guys that proved to boast were divorcing.   \n",
       "3  All ten guys that proved to boast weren't divo...   \n",
       "4  All ten guys that proved to boast weren't divo...   \n",
       "\n",
       "                                          hypothesis     trigger  \\\n",
       "0   There are exactly ten guys that proved to boast.  unembedded   \n",
       "1  There are exactly eleven guys that proved to b...  unembedded   \n",
       "2  There are exactly ten senators that proved to ...  unembedded   \n",
       "3   There are exactly ten guys that proved to boast.     negated   \n",
       "4  There are exactly eleven guys that proved to b...     negated   \n",
       "\n",
       "         trigger1        trigger2 presupposition  gold_label  \\\n",
       "0  Not_In_Example  Not_In_Example       positive           0   \n",
       "1  Not_In_Example  Not_In_Example        negated           2   \n",
       "2  Not_In_Example  Not_In_Example        neutral           1   \n",
       "3  Not_In_Example  Not_In_Example       positive           0   \n",
       "4  Not_In_Example  Not_In_Example        negated           2   \n",
       "\n",
       "                    UID pairID  paradigmID               section  \n",
       "0  all_n_presupposition     0e           0  all_n_presupposition  \n",
       "1  all_n_presupposition     1c           0  all_n_presupposition  \n",
       "2  all_n_presupposition     2n           0  all_n_presupposition  \n",
       "3  all_n_presupposition     3e           0  all_n_presupposition  \n",
       "4  all_n_presupposition     4c           0  all_n_presupposition  "
      ]
     },
     "execution_count": 3,
     "metadata": {},
     "output_type": "execute_result"
    }
   ],
   "source": [
    "from datasets import load_dataset\n",
    "import pandas as pd\n",
    "\n",
    "# Presupposition sections\n",
    "presupposition_sections = [\n",
    "    'all_n_presupposition',\n",
    "    'both_presupposition',\n",
    "    'change_of_state',\n",
    "    'cleft_existence',\n",
    "    'cleft_uniqueness',\n",
    "    'only_presupposition',\n",
    "    'possessed_definites_existence',\n",
    "    'possessed_definites_uniqueness',\n",
    "    'question_presupposition'\n",
    "]\n",
    "\n",
    "\n",
    "\n",
    "# Load and merge all presupposition sections\n",
    "dfs = []\n",
    "for section in presupposition_sections:\n",
    "    ds = load_dataset(\"facebook/imppres\", 'presupposition_' + section)\n",
    "    df = pd.DataFrame(ds[section])\n",
    "    df[\"section\"] = section\n",
    "    dfs.append(df)\n",
    "\n",
    "# Combine into one dataset\n",
    "combined_df = pd.concat(dfs, ignore_index=True)\n",
    "\n",
    "# Show shape and preview\n",
    "print(\"Combined dataset shape:\", combined_df.shape)\n",
    "combined_df.head()\n"
   ]
  },
  {
   "cell_type": "markdown",
   "id": "647a0797",
   "metadata": {},
   "source": [
    "# for future task lets use a third of the data"
   ]
  },
  {
   "cell_type": "code",
   "execution_count": null,
   "id": "ad269ed7",
   "metadata": {},
   "outputs": [
    {
     "name": "stdout",
     "output_type": "stream",
     "text": [
      "Combined dataset saved to c:\\Users\\idol\\Desktop\\University\\Simester F\\LLM\\ass2\\nlp-with-llms-2025-hw2\\combined_presuppositions.csv\n",
      "Shape: (5697, 11)\n"
     ]
    }
   ],
   "source": [
    "from datasets import load_dataset\n",
    "import pandas as pd\n",
    "import os\n",
    "dfs = []\n",
    "for section in presupposition_sections:\n",
    "    ds = load_dataset(\"facebook/imppres\", 'presupposition_' + section)\n",
    "    df = pd.DataFrame(ds[section])\n",
    "    \n",
    "    # Use only one third of the rows\n",
    "    subset_size = len(df) // 3\n",
    "    df = df.iloc[:subset_size].copy()\n",
    "    \n",
    "    df[\"section\"] = section\n",
    "    dfs.append(df)\n",
    "\n",
    "output_path=\"combined_presuppositions.csv\"\n",
    "combined_df = pd.concat(dfs, ignore_index=True)\n",
    "combined_df.to_csv(output_path, index=False)\n",
    "\n",
    "print(f\"Combined dataset saved to {os.path.abspath(output_path)}\")\n",
    "print(\"Shape:\", combined_df.shape)"
   ]
  },
  {
   "cell_type": "code",
   "execution_count": 5,
   "id": "762086e4",
   "metadata": {},
   "outputs": [
    {
     "name": "stdout",
     "output_type": "stream",
     "text": [
      "Combined dataset saved to c:\\Users\\idol\\Desktop\\University\\Simester F\\LLM\\ass2\\nlp-with-llms-2025-hw2\\small_combined_presuppositions.csv\n",
      "Shape: (567, 11)\n"
     ]
    }
   ],
   "source": [
    "from datasets import load_dataset\n",
    "import pandas as pd\n",
    "import os\n",
    "dfs = []\n",
    "for section in presupposition_sections:\n",
    "    ds = load_dataset(\"facebook/imppres\", 'presupposition_' + section)\n",
    "    df = pd.DataFrame(ds[section])\n",
    "    \n",
    "    # Use only one third of the rows\n",
    "    subset_size = len(df) // 30\n",
    "    df = df.iloc[:subset_size].copy()\n",
    "    \n",
    "    df[\"section\"] = section\n",
    "    dfs.append(df)\n",
    "\n",
    "output_path=\"small_combined_presuppositions.csv\"\n",
    "combined_df = pd.concat(dfs, ignore_index=True)\n",
    "combined_df.to_csv(output_path, index=False)\n",
    "\n",
    "print(f\"Combined dataset saved to {os.path.abspath(output_path)}\")\n",
    "print(\"Shape:\", combined_df.shape)"
   ]
  }
 ],
 "metadata": {
  "kernelspec": {
   "display_name": "hw2",
   "language": "python",
   "name": "python3"
  },
  "language_info": {
   "codemirror_mode": {
    "name": "ipython",
    "version": 3
   },
   "file_extension": ".py",
   "mimetype": "text/x-python",
   "name": "python",
   "nbconvert_exporter": "python",
   "pygments_lexer": "ipython3",
   "version": "3.11.12"
  }
 },
 "nbformat": 4,
 "nbformat_minor": 5
}
