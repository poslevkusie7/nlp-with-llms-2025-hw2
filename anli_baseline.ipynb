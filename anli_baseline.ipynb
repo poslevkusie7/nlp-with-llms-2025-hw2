{
 "cells": [
  {
   "cell_type": "markdown",
   "id": "c468709d",
   "metadata": {},
   "source": [
    "# ANLI Baseline\n",
    "\n",
    "This model illustrates how to use the DeBERTa-v3-base-mnli-fever-anli model to perform specialized inference on the ANLI dataset.\n",
    "This dataset has 184M parameters. It was trained in 2021 on the basis of a BERT-like embedding approach: \n",
    "* The premise and the hypothesis are encoded using the DeBERTa-v3-base contextual encoder\n",
    "* The encodings are then compared on a fine-tuned model to predict a distribution over the classification labels (entailment, contradiction, neutral)\n",
    "\n",
    "Reported accuracy on ANLI is 0.495 (see https://huggingface.co/MoritzLaurer/DeBERTa-v3-base-mnli-fever-anli) \n",
    "\n"
   ]
  },
  {
   "cell_type": "code",
   "execution_count": 29,
   "id": "2cec0d02",
   "metadata": {},
   "outputs": [],
   "source": [
    "from transformers import AutoTokenizer, AutoModelForSequenceClassification\n",
    "import torch\n",
    "device = torch.device(\"cuda\") if torch.cuda.is_available() else torch.device(\"cpu\")\n",
    "\n",
    "model_name = \"MoritzLaurer/DeBERTa-v3-base-mnli-fever-anli\"\n",
    "tokenizer = AutoTokenizer.from_pretrained(model_name)\n",
    "model = AutoModelForSequenceClassification.from_pretrained(model_name)"
   ]
  },
  {
   "cell_type": "code",
   "execution_count": 30,
   "id": "80a47aea",
   "metadata": {},
   "outputs": [
    {
     "name": "stderr",
     "output_type": "stream",
     "text": [
      "Asking to truncate to max_length but no maximum length is provided and the model has no predefined maximum length. Default to no truncation.\n"
     ]
    },
    {
     "name": "stdout",
     "output_type": "stream",
     "text": [
      "{'entailment': 6.6, 'neutral': 17.3, 'contradiction': 76.1}\n"
     ]
    }
   ],
   "source": [
    "premise = \"I first thought that I liked the movie, but upon second thought it was actually disappointing.\"\n",
    "hypothesis = \"The movie was good.\"\n",
    "\n",
    "input = tokenizer(premise, hypothesis, truncation=True, return_tensors=\"pt\")\n",
    "output = model(input[\"input_ids\"].to(device))  # device = \"cuda:0\" or \"cpu\"\n",
    "prediction = torch.softmax(output[\"logits\"][0], -1).tolist()\n",
    "label_names = [\"entailment\", \"neutral\", \"contradiction\"]\n",
    "prediction = {name: round(float(pred) * 100, 1) for pred, name in zip(prediction, label_names)}\n",
    "print(prediction)\n"
   ]
  },
  {
   "cell_type": "code",
   "execution_count": 31,
   "id": "0cfe31ba",
   "metadata": {},
   "outputs": [],
   "source": [
    "def evaluate(premise, hypothesis):\n",
    "    input = tokenizer(premise, hypothesis, truncation=True, return_tensors=\"pt\")\n",
    "    output = model(input[\"input_ids\"].to(device))\n",
    "    prediction = torch.softmax(output[\"logits\"][0], -1).tolist()\n",
    "    prediction = {name: round(float(pred) * 100, 1) for pred, name in zip(prediction, label_names)}\n",
    "    return prediction"
   ]
  },
  {
   "cell_type": "code",
   "execution_count": 32,
   "id": "a2954d97",
   "metadata": {},
   "outputs": [
    {
     "data": {
      "text/plain": [
       "{'entailment': 0.1, 'neutral': 99.8, 'contradiction': 0.0}"
      ]
     },
     "execution_count": 32,
     "metadata": {},
     "output_type": "execute_result"
    }
   ],
   "source": [
    "evaluate(\"The weather is nice today.\", \"It is sunny outside.\")"
   ]
  },
  {
   "cell_type": "code",
   "execution_count": 33,
   "id": "923ea5e0",
   "metadata": {},
   "outputs": [],
   "source": [
    "def get_prediction(pred_dict):\n",
    "    if pred_dict[\"entailment\"] > pred_dict[\"contradiction\"]  and pred_dict[\"entailment\"] > pred_dict[\"neutral\"]:\n",
    "        return \"entailment\"\n",
    "    elif pred_dict[\"contradiction\"] > pred_dict[\"entailment\"]  and pred_dict[\"contradiction\"] > pred_dict[\"neutral\"]:\n",
    "        return \"contradiction\"\n",
    "    else:\n",
    "        return \"neutral\""
   ]
  },
  {
   "cell_type": "code",
   "execution_count": 34,
   "id": "af257dff",
   "metadata": {},
   "outputs": [
    {
     "data": {
      "text/plain": [
       "'neutral'"
      ]
     },
     "execution_count": 34,
     "metadata": {},
     "output_type": "execute_result"
    }
   ],
   "source": [
    "get_prediction(evaluate(\"The weather is nice today.\", \"It is sunny outside.\"))"
   ]
  },
  {
   "cell_type": "code",
   "execution_count": 35,
   "id": "929632f5",
   "metadata": {},
   "outputs": [
    {
     "data": {
      "text/plain": [
       "'entailment'"
      ]
     },
     "execution_count": 35,
     "metadata": {},
     "output_type": "execute_result"
    }
   ],
   "source": [
    "get_prediction(evaluate(\"It is sunny outside.\", \"The weather is nice today.\"))"
   ]
  },
  {
   "cell_type": "code",
   "execution_count": 36,
   "id": "747c0cb9",
   "metadata": {},
   "outputs": [
    {
     "data": {
      "text/plain": [
       "'contradiction'"
      ]
     },
     "execution_count": 36,
     "metadata": {},
     "output_type": "execute_result"
    }
   ],
   "source": [
    "get_prediction(evaluate(\"It is sunny outside.\", \"The weather is terrible today.\"))"
   ]
  },
  {
   "cell_type": "markdown",
   "id": "17ab422d",
   "metadata": {},
   "source": [
    "## Load ANLI dataset"
   ]
  },
  {
   "cell_type": "code",
   "execution_count": 37,
   "id": "0438789b",
   "metadata": {},
   "outputs": [],
   "source": [
    "from datasets import load_dataset\n",
    "\n",
    "dataset = load_dataset(\"facebook/anli\")\n",
    "dataset = dataset.filter(lambda x: x['reason'] != None and x['reason'] != \"\")"
   ]
  },
  {
   "cell_type": "code",
   "execution_count": 38,
   "id": "e59927ea",
   "metadata": {},
   "outputs": [
    {
     "data": {
      "text/plain": [
       "DatasetDict({\n",
       "    train_r1: Dataset({\n",
       "        features: ['uid', 'premise', 'hypothesis', 'label', 'reason'],\n",
       "        num_rows: 2923\n",
       "    })\n",
       "    dev_r1: Dataset({\n",
       "        features: ['uid', 'premise', 'hypothesis', 'label', 'reason'],\n",
       "        num_rows: 1000\n",
       "    })\n",
       "    test_r1: Dataset({\n",
       "        features: ['uid', 'premise', 'hypothesis', 'label', 'reason'],\n",
       "        num_rows: 1000\n",
       "    })\n",
       "    train_r2: Dataset({\n",
       "        features: ['uid', 'premise', 'hypothesis', 'label', 'reason'],\n",
       "        num_rows: 4861\n",
       "    })\n",
       "    dev_r2: Dataset({\n",
       "        features: ['uid', 'premise', 'hypothesis', 'label', 'reason'],\n",
       "        num_rows: 1000\n",
       "    })\n",
       "    test_r2: Dataset({\n",
       "        features: ['uid', 'premise', 'hypothesis', 'label', 'reason'],\n",
       "        num_rows: 1000\n",
       "    })\n",
       "    train_r3: Dataset({\n",
       "        features: ['uid', 'premise', 'hypothesis', 'label', 'reason'],\n",
       "        num_rows: 13375\n",
       "    })\n",
       "    dev_r3: Dataset({\n",
       "        features: ['uid', 'premise', 'hypothesis', 'label', 'reason'],\n",
       "        num_rows: 1200\n",
       "    })\n",
       "    test_r3: Dataset({\n",
       "        features: ['uid', 'premise', 'hypothesis', 'label', 'reason'],\n",
       "        num_rows: 1200\n",
       "    })\n",
       "})"
      ]
     },
     "execution_count": 38,
     "metadata": {},
     "output_type": "execute_result"
    }
   ],
   "source": [
    "dataset"
   ]
  },
  {
   "cell_type": "code",
   "execution_count": 39,
   "id": "b8262068",
   "metadata": {},
   "outputs": [],
   "source": [
    "# Evaluate the model on the ANLI dataset\n",
    "from tqdm import tqdm\n",
    "def evaluate_on_dataset(dataset):\n",
    "    results = []\n",
    "    label_names = [\"entailment\", \"neutral\", \"contradiction\"]\n",
    "    for example in tqdm(dataset):\n",
    "        premise = example['premise']\n",
    "        hypothesis = example['hypothesis']\n",
    "        prediction = evaluate(premise, hypothesis)\n",
    "        results.append({\n",
    "            'premise': premise,\n",
    "            'hypothesis': hypothesis,\n",
    "            'prediction': prediction,\n",
    "            'pred_label': get_prediction(prediction),\n",
    "            'gold_label': label_names[example['label']],\n",
    "            'reason': example['reason']\n",
    "        })\n",
    "    return results"
   ]
  },
  {
   "cell_type": "code",
   "execution_count": 40,
   "id": "f858feae",
   "metadata": {},
   "outputs": [
    {
     "name": "stderr",
     "output_type": "stream",
     "text": [
      "100%|██████████| 1200/1200 [01:58<00:00, 10.11it/s]\n"
     ]
    }
   ],
   "source": [
    "pred_test_r3 = evaluate_on_dataset(dataset['test_r3'])"
   ]
  },
  {
   "cell_type": "code",
   "execution_count": 41,
   "id": "c8efb717",
   "metadata": {},
   "outputs": [
    {
     "data": {
      "text/plain": [
       "[{'premise': \"It is Sunday today, let's take a look at the most popular posts of the last couple of days. Most of the articles this week deal with the iPhone, its future version called the iPhone 8 or iPhone Edition, and new builds of iOS and macOS. There are also some posts that deal with the iPhone rival called the Galaxy S8 and some other interesting stories. The list of the most interesting articles is available below. Stay tuned for more rumors and don't forget to follow us on Twitter.\",\n",
       "  'hypothesis': 'The day of the passage is usually when Christians praise the lord together',\n",
       "  'prediction': {'entailment': 2.4, 'neutral': 97.4, 'contradiction': 0.2},\n",
       "  'pred_label': 'neutral',\n",
       "  'gold_label': 'entailment',\n",
       "  'reason': \"Sunday is considered Lord's Day\"},\n",
       " {'premise': 'By The Associated Press WELLINGTON, New Zealand (AP) — All passengers and crew have survived a crash-landing of a plane in a lagoon in the Federated States of Micronesia. WELLINGTON, New Zealand (AP) — All passengers and crew have survived a crash-landing of a plane in a lagoon in the Federated States of Micronesia. Copyright © 2018 The Associated Press. All rights reserved. This material may not be published, broadcast, written or redistributed.',\n",
       "  'hypothesis': 'No children were killed in the accident.',\n",
       "  'prediction': {'entailment': 0.1, 'neutral': 99.9, 'contradiction': 0.0},\n",
       "  'pred_label': 'neutral',\n",
       "  'gold_label': 'entailment',\n",
       "  'reason': 'The context confirms that everybody survived the accident, so there is no way that a child was killed.'},\n",
       " {'premise': 'Tokyo - Food group Nestle is seeking to lure Japanese holiday shoppers with a taste for fine snacking with a gold-wrapped Kit Kat chocolate bar. The single finger Kit Kat is wrapped in a thin layer of gold leaf. Only 500 of the bars go on sale from Dec. 29 with a price tag of around 2,016 yen ($16). The Kit Kat chocolate bar made its debut in Japan in 1973 and since then a variety of flavors -- from green tea to wasabi -- have been produced.',\n",
       "  'hypothesis': 'Japanese like kit kat. ',\n",
       "  'prediction': {'entailment': 84.0, 'neutral': 15.9, 'contradiction': 0.1},\n",
       "  'pred_label': 'entailment',\n",
       "  'gold_label': 'entailment',\n",
       "  'reason': 'according to the text, The Kit Kat chocolate bar made its debut in Japan in 1973 and since then a variety of flavors -- from green tea to wasabi -- have been produced, which means if  they have been so many produced it is because they like it. '},\n",
       " {'premise': 'Governor Greg Abbott has called for a statewide show of support for law enforcement Friday, July 7. Locally, a 15-minute program is planned at 9 a.m. at Memorial Lane Park, 550 N. Travis St. The governor is asking law enforcement officers to turn on red and blue flashing lights for one-minute at 10 a.m. Multiple law enforcement officers were shot and killed in Dallas one year ago.',\n",
       "  'hypothesis': 'Law enforcement officers and the people at the Travis St. memorial do not show their support at the same time.',\n",
       "  'prediction': {'entailment': 11.9, 'neutral': 75.8, 'contradiction': 12.3},\n",
       "  'pred_label': 'neutral',\n",
       "  'gold_label': 'entailment',\n",
       "  'reason': 'The Travis St.memorial program begins at 9 a.m. Law enforcement officers were asked to turn on red and blue flashing lights for one-minute at 10 a.m.'},\n",
       " {'premise': 'Sept 4 (Reuters) - J.P. Morgan Asset Management, a unit of JPMorgan Chase & Co, said it appointed Pietro Grassano the new country head for France. Based in Paris, Grassano started in his new role on Sept. 1, J.P. Morgan Asset Management said in a statement. Grassano, who has been with the company since 2002, was previously the head of sales for Italy, covering wholesale and retail distribution. He has earlier worked at BNP Paribas Asset Management.',\n",
       "  'hypothesis': 'Pietro Grassano was once the country head for France.',\n",
       "  'prediction': {'entailment': 2.9, 'neutral': 55.1, 'contradiction': 42.0},\n",
       "  'pred_label': 'neutral',\n",
       "  'gold_label': 'entailment',\n",
       "  'reason': '\"J.P. Morgan Asset Management, a unit of JPMorgan Chase & Co, said it appointed Pietro Grassano the new country head for France.\" I think it was difficult because I worded it past tense, \"He was ONCE the country head\", but I believe that statement is true because it is past Sept 1 when he was appointed.'}]"
      ]
     },
     "execution_count": 41,
     "metadata": {},
     "output_type": "execute_result"
    }
   ],
   "source": [
    "pred_test_r3[:5]  # Display the first 5 predictions"
   ]
  },
  {
   "cell_type": "markdown",
   "id": "ea8e1258",
   "metadata": {},
   "source": [
    "## Evaluate Metrics\n",
    "\n",
    "Let's use the huggingface `evaluate` package to compute the performance of the baseline.\n"
   ]
  },
  {
   "cell_type": "code",
   "execution_count": 42,
   "id": "0e2e9027",
   "metadata": {},
   "outputs": [],
   "source": [
    "from evaluate import load\n",
    "\n",
    "accuracy = load(\"accuracy\")\n",
    "precision = load(\"precision\")\n",
    "recall = load(\"recall\")\n",
    "f1 = load(\"f1\")\n"
   ]
  },
  {
   "cell_type": "code",
   "execution_count": 43,
   "id": "1ab24e1b",
   "metadata": {},
   "outputs": [],
   "source": [
    "from evaluate import combine\n",
    "clf_metrics = combine([\"accuracy\", \"f1\", \"precision\", \"recall\"])"
   ]
  },
  {
   "cell_type": "code",
   "execution_count": 44,
   "id": "5d04f0c1",
   "metadata": {},
   "outputs": [
    {
     "data": {
      "text/plain": [
       "{'accuracy': 0.6666666666666666,\n",
       " 'f1': 0.6666666666666666,\n",
       " 'precision': 1.0,\n",
       " 'recall': 0.5}"
      ]
     },
     "execution_count": 44,
     "metadata": {},
     "output_type": "execute_result"
    }
   ],
   "source": [
    "clf_metrics.compute(predictions=[0, 1, 0], references=[0, 1, 1])"
   ]
  },
  {
   "cell_type": "markdown",
   "id": "0909d58b",
   "metadata": {},
   "source": [
    "## Your Turn\n",
    "\n",
    "Compute the classification metrics on the baseline model on each section of the ANLI dataset.\n",
    "\n",
    "https://www.kaggle.com/code/faijanahamadkhan/llm-evaluation-framework-hugging-face provides good documentation on how to use the Huggingface evaluate library."
   ]
  },
  {
   "cell_type": "code",
   "execution_count": 49,
   "id": "34e7359f",
   "metadata": {},
   "outputs": [
    {
     "name": "stderr",
     "output_type": "stream",
     "text": [
      "100%|██████████| 1000/1000 [01:48<00:00,  9.20it/s]\n"
     ]
    }
   ],
   "source": [
    "pred_test_r1 = evaluate_on_dataset(dataset['test_r1'])\n",
    "# pred_test_r1[:5]\n"
   ]
  },
  {
   "cell_type": "code",
   "execution_count": 50,
   "id": "05368c6e",
   "metadata": {},
   "outputs": [
    {
     "name": "stderr",
     "output_type": "stream",
     "text": [
      "100%|██████████| 1000/1000 [01:53<00:00,  8.78it/s]\n"
     ]
    }
   ],
   "source": [
    "pred_test_r2 = evaluate_on_dataset(dataset['test_r2'])\n",
    "# pred_test_r2[:5]"
   ]
  },
  {
   "cell_type": "code",
   "execution_count": 51,
   "id": "c0335ffe",
   "metadata": {},
   "outputs": [
    {
     "name": "stderr",
     "output_type": "stream",
     "text": [
      "100%|██████████| 1200/1200 [02:12<00:00,  9.06it/s]\n"
     ]
    }
   ],
   "source": [
    "pred_test_r3 = evaluate_on_dataset(dataset['test_r3'])\n",
    "# pred_test_r3[:5]\n"
   ]
  },
  {
   "cell_type": "code",
   "execution_count": 65,
   "id": "aad899f1",
   "metadata": {},
   "outputs": [
    {
     "name": "stdout",
     "output_type": "stream",
     "text": [
      "\n",
      "=== Metrics on test_r1 (1000 examples) ===\n",
      "Accuracy : 0.7120\n",
      "Precision: 0.7135\n",
      "Recall   : 0.7120\n",
      "F1       : 0.7119\n",
      "\n",
      "=== Metrics on test_r2 (1000 examples) ===\n",
      "Accuracy : 0.5470\n",
      "Precision: 0.5472\n",
      "Recall   : 0.5470\n",
      "F1       : 0.5465\n",
      "\n",
      "=== Metrics on test_r3 (1200 examples) ===\n",
      "Accuracy : 0.4950\n",
      "Precision: 0.4985\n",
      "Recall   : 0.4946\n",
      "F1       : 0.4943\n"
     ]
    }
   ],
   "source": [
    "from evaluate import load\n",
    "\n",
    "# load each metric\n",
    "accuracy  = load(\"accuracy\")\n",
    "precision = load(\"precision\")\n",
    "recall    = load(\"recall\")\n",
    "f1        = load(\"f1\")\n",
    "\n",
    "label2id = {\"entailment\": 0, \"neutral\": 1, \"contradiction\": 2}\n",
    "\n",
    "def compute_section_metrics(pred_list):\n",
    "    preds = [label2id[ex['pred_label']] for ex in pred_list]\n",
    "    refs  = [label2id[ex['gold_label']] for ex in pred_list]\n",
    "\n",
    "    return {\n",
    "        \"accuracy\" : accuracy.compute(predictions=preds, references=refs)[\"accuracy\"],\n",
    "        \"precision\": precision.compute(predictions=preds,\n",
    "                                       references=refs,\n",
    "                                       average=\"macro\")[\"precision\"],\n",
    "        \"recall\"   : recall.compute(predictions=preds,\n",
    "                                    references=refs,\n",
    "                                    average=\"macro\")[\"recall\"],\n",
    "        \"f1\"       : f1.compute(predictions=preds,\n",
    "                                references=refs,\n",
    "                                average=\"macro\")[\"f1\"],\n",
    "    }\n",
    "\n",
    "for split_name, preds in [\n",
    "    (\"test_r1\", pred_test_r1),\n",
    "    (\"test_r2\", pred_test_r2),\n",
    "    (\"test_r3\", pred_test_r3),\n",
    "]:\n",
    "    m = compute_section_metrics(preds)\n",
    "    print(f\"\\n=== Metrics on {split_name} ({len(preds)} examples) ===\")\n",
    "    print(f\"Accuracy : {m['accuracy']:.4f}\")\n",
    "    print(f\"Precision: {m['precision']:.4f}\")\n",
    "    print(f\"Recall   : {m['recall']:.4f}\")\n",
    "    print(f\"F1       : {m['f1']:.4f}\")"
   ]
  },
  {
   "cell_type": "code",
   "execution_count": 71,
   "id": "a7523e60",
   "metadata": {},
   "outputs": [
    {
     "name": "stdout",
     "output_type": "stream",
     "text": [
      "Found 1347 errors out of 3200 total predictions.\n",
      "Investigating 20 sampled errors...\n"
     ]
    }
   ],
   "source": [
    "import random\n",
    "import pandas as pd\n",
    "\n",
    "all_predictions = pred_test_r1 + pred_test_r2 + pred_test_r3\n",
    "\n",
    "errors = [p for p in all_predictions if p['pred_label'] != p['gold_label']]\n",
    "\n",
    "print(f\"Found {len(errors)} errors out of {len(all_predictions)} total predictions.\")\n",
    "\n",
    "if len(errors) >= 20:\n",
    "    error_samples = random.sample(errors, 20)\n",
    "else:\n",
    "    error_samples = errors \n",
    "\n",
    "print(f\"Investigating {len(error_samples)} sampled errors...\")\n",
    "\n",
    "pd.set_option('display.max_colwidth', None)\n",
    "error_df = pd.DataFrame(error_samples)[['premise', 'hypothesis', 'pred_label', 'gold_label', 'reason']]\n",
    "# error_df\n"
   ]
  },
  {
   "cell_type": "code",
   "execution_count": 73,
   "id": "b4a0020d",
   "metadata": {},
   "outputs": [
    {
     "data": {
      "text/html": [
       "<div>\n",
       "<style scoped>\n",
       "    .dataframe tbody tr th:only-of-type {\n",
       "        vertical-align: middle;\n",
       "    }\n",
       "\n",
       "    .dataframe tbody tr th {\n",
       "        vertical-align: top;\n",
       "    }\n",
       "\n",
       "    .dataframe thead th {\n",
       "        text-align: right;\n",
       "    }\n",
       "</style>\n",
       "<table border=\"1\" class=\"dataframe\">\n",
       "  <thead>\n",
       "    <tr style=\"text-align: right;\">\n",
       "      <th></th>\n",
       "      <th>premise</th>\n",
       "      <th>hypothesis</th>\n",
       "      <th>pred_label</th>\n",
       "      <th>gold_label</th>\n",
       "      <th>reason</th>\n",
       "    </tr>\n",
       "  </thead>\n",
       "  <tbody>\n",
       "    <tr>\n",
       "      <th>0</th>\n",
       "      <td>How to deal with stress about current events&lt;br&gt;Avoid the news in the morning. Negative news in the morning may affect your mood for the rest of the day. When you wake up, try to keep yourself positive.</td>\n",
       "      <td>You should find something enjoyable in the morning.</td>\n",
       "      <td>neutral</td>\n",
       "      <td>entailment</td>\n",
       "      <td>You should stay positive in the morning.</td>\n",
       "    </tr>\n",
       "    <tr>\n",
       "      <th>1</th>\n",
       "      <td>Thank You Happy Birthday is the second studio album by American rock band Cage the Elephant. It was released on January 11, 2011 to positive critical reception. The album was produced by Jay Joyce, who worked in the same capacity on the band's eponymous debut album.</td>\n",
       "      <td>Cage the Elephant had positive reviews thanks to the work of Jay Joyce who produced it.</td>\n",
       "      <td>entailment</td>\n",
       "      <td>neutral</td>\n",
       "      <td>How can you possibly know from above if the producer is the reason the album was successful?</td>\n",
       "    </tr>\n",
       "    <tr>\n",
       "      <th>2</th>\n",
       "      <td>It Takes a Village: And Other Lessons Children Teach Us is a book published in 1996 by First Lady of the United States Hillary Rodham Clinton. In it, Clinton presents her vision for the children of America. She focuses on the impact individuals and groups outside the family have, for better or worse, on a child's well-being, and advocates a society which meets all of a child's needs.</td>\n",
       "      <td>The rest of the title of \"It Takes a Village\" is \"The Impact Individuals and Groups Outside the Family Have\".</td>\n",
       "      <td>entailment</td>\n",
       "      <td>contradiction</td>\n",
       "      <td>It's incorrect because the rest of the title is something else. It fooled the system because I used part of a sentence in the info.</td>\n",
       "    </tr>\n",
       "    <tr>\n",
       "      <th>3</th>\n",
       "      <td>The 2012 Supercheap Auto Bathurst 1000 was an Australian touring car motor race for V8 Supercars, the twenty-first race of the 2012 International V8 Supercars Championship. It was held on Sunday, 7 October 2012 at the Mount Panorama Circuit on the outskirts of Bathurst, New South Wales, in Australia.</td>\n",
       "      <td>The 2012 Supercheap Auto Bathurst 1000 has never been won by a motorcycle.</td>\n",
       "      <td>neutral</td>\n",
       "      <td>entailment</td>\n",
       "      <td>It's a supercar race, not a motorcycle race.</td>\n",
       "    </tr>\n",
       "    <tr>\n",
       "      <th>4</th>\n",
       "      <td>Mahalakshmi (Tamil: மகாலட்சுமி ) is an 2017 Indian-Tamil Language Family soap opera starring Kavya Shastry, Vallab, Anjali Rav and Lokesh. It replaced Nijangal and it broadcast on Sun TV on Monday to Saturday from 6 March 2017 at 12:30PM (IST). It was produced by Vision Time India Pvt Ltd and directed by Shan Karthik and M.K.Arunthavaraja.</td>\n",
       "      <td>in 2017 Mahalakshmi was broadcast for the first time when it replaced Nijangal</td>\n",
       "      <td>neutral</td>\n",
       "      <td>entailment</td>\n",
       "      <td>The show Mahalakshmi was broadcast first in 2017 after it replaced Nijangal. I think it was hard for the computer because i used parts of the context that were separated by big parts of text and changed some words</td>\n",
       "    </tr>\n",
       "    <tr>\n",
       "      <th>5</th>\n",
       "      <td>In Italy, big protests by students and university staff against government reforms to higher education brought parts of central Rome to a standstill on Tuesday.</td>\n",
       "      <td>Big student and university staff protests brought parts of the Roman Empire to a standstill on Tuesday.</td>\n",
       "      <td>entailment</td>\n",
       "      <td>contradiction</td>\n",
       "      <td>It is common knowledge that the Roman Empire no longer exists so this is incorrect.</td>\n",
       "    </tr>\n",
       "    <tr>\n",
       "      <th>6</th>\n",
       "      <td>Giovanni Visconti — according to Lorenzo Cardella nephew of Pope Gregory X. He was ostensibly created cardinal-bishop of Sabina by his uncle in 1275 and in 1276 was named judge in the case concerning the translation of bishop Giovanni of Potenza to the archbishopric of Monreale, postulated by the cathedral chapter of Monreale. He died in 1277 or 1278.</td>\n",
       "      <td>Giovanni Visconti died in both 1277 and 1278.</td>\n",
       "      <td>entailment</td>\n",
       "      <td>contradiction</td>\n",
       "      <td>He died in one of the two listed years, not both, as reflected by the word \"or\" in the text.</td>\n",
       "    </tr>\n",
       "    <tr>\n",
       "      <th>7</th>\n",
       "      <td>The Walkie Talkie&lt;br&gt;The boys loved playing outside. They had walkie talkies that the used to talk to each other. They would run through the woods and keep in contact with them. They played this game all summer. THey couldn't wait until next summer to play it again!</td>\n",
       "      <td>The walkie talkies made it easy for the boys to keep in contact with each other</td>\n",
       "      <td>neutral</td>\n",
       "      <td>entailment</td>\n",
       "      <td>The whole context is about how the boys used the walkie talkies to talk to each other the whole summer. I think the system didn't guess right because I didn't use a lot of the same words from the context in my answer.</td>\n",
       "    </tr>\n",
       "    <tr>\n",
       "      <th>8</th>\n",
       "      <td>Edward M. \"Teddy\" Sears (born April 6, 1977) is an American actor, known for his roles as Richard Patrick Woolsley on the TNT legal drama series \"Raising the Bar\", Patrick on the first season of FX anthology horror drama \"American Horror Story\" (retroactively titled \"\"), Dr. Austin Langham on the \"Showtime\" period drama series \"Masters of Sex\", and Hunter Zolomon/Zoom in \"The Flash\".</td>\n",
       "      <td>Edward was not good enough for movies.</td>\n",
       "      <td>contradiction</td>\n",
       "      <td>neutral</td>\n",
       "      <td>There was no mention of movies so that is not known.</td>\n",
       "    </tr>\n",
       "    <tr>\n",
       "      <th>9</th>\n",
       "      <td>Scooter is an animated character used by Fox Sports during Major League Baseball games. The character, a baseball with human facial characteristics, is voiced by Tom Kenny (best known for his work as the voice of SpongeBob SquarePants) and was designed by Fox to explain different types of pitches with the education of children in mind.</td>\n",
       "      <td>Scooter is a sphere-shaped character with human facial characteristics.</td>\n",
       "      <td>contradiction</td>\n",
       "      <td>entailment</td>\n",
       "      <td>Baseball's are sphere-shaped and Scooter is a baseball with human facial characteristics.  I think this was difficult for the system because they would have to know that a baseball is sphere-shaped.</td>\n",
       "    </tr>\n",
       "    <tr>\n",
       "      <th>10</th>\n",
       "      <td>A group of protesters cheer and take turns kicking a toppled Confederate soldier statue during an 'Emergency Durham Protest' at the old Durham County Courthouse in response to the violent protests Saturday in Charlottesville, on Monday, Aug. 14, 2017, in Durham, NC. The group proceeded to march to the site of the new police headquarters under construction. Casey Toth ctoth@heraldsun.com</td>\n",
       "      <td>Protesters were kicking the toppled Confederate statue because they were upset it was toppled.</td>\n",
       "      <td>neutral</td>\n",
       "      <td>contradiction</td>\n",
       "      <td>The paragraph describes the protesters as cheering and kicking the statue.  It is clear that these people view the statue as racist and are happy it was toppled.  Thus, my statement is definitely incorrect.  The system probably doesn't think a reason for their behavior can be inferred, or perhaps doesn't understand the implications of the word \"cheer.\"</td>\n",
       "    </tr>\n",
       "    <tr>\n",
       "      <th>11</th>\n",
       "      <td>WASHINGTON (Reuters) - U.S. Supreme Court nominee Brett Kavanaugh and the woman who accused him of sexual assault will testify next Monday at a public hearing of the Senate Judiciary Committee, the panel’s chairman, Senator Chuck Grassley, said in a statement. Reporting by Eric Beech; Editing by Mohammad Zargham</td>\n",
       "      <td>Brett Kavanaugh is a criminal.</td>\n",
       "      <td>contradiction</td>\n",
       "      <td>neutral</td>\n",
       "      <td>The text does not state this.</td>\n",
       "    </tr>\n",
       "    <tr>\n",
       "      <th>12</th>\n",
       "      <td>All India Kashmir Committee was set up by prominent Muslim leaders of India on July 25, 1931. Muhammad Iqbal and a number of other leaders were invited by Mirza Bashir-ud-Din Mahmood Ahmad to form the committee. Although orthodox press and historians attribute the formation of the Committee to Dr. Muhammad Iqbal.</td>\n",
       "      <td>All India Kashmir Committee included Hindus</td>\n",
       "      <td>contradiction</td>\n",
       "      <td>neutral</td>\n",
       "      <td>The narrative never specified that Hindus were excluded, the system assumes so.</td>\n",
       "    </tr>\n",
       "    <tr>\n",
       "      <th>13</th>\n",
       "      <td>How to come out to your best friend without giving her the wrong idea&lt;br&gt;Ask your friend to meet you someplace. Call her up, send her a text on her cell, email her, or ask her to meet you in person. Say this or something similar to this: \" jessica, can you meet me at the coffee shop on belmont tomorrow after you get off work? \" Give her a moment to settle in.</td>\n",
       "      <td>The narrator is female.</td>\n",
       "      <td>entailment</td>\n",
       "      <td>neutral</td>\n",
       "      <td>The scenario never explicitly states the gender of the narrator, however for Jessica to 'get the wrong idea' it is implied that the narrator is of the same sex and therefore worried about giving her the wrong impression.</td>\n",
       "    </tr>\n",
       "    <tr>\n",
       "      <th>14</th>\n",
       "      <td>It is the work of the official opposition research and communications people, with the supervision and involvement of the hon. member for Medicine Hat, the hon. member for Calgary Southeast, the hon. member for Prince George-Bulkley Valley and the hon. member for Battlefords-Lloydminster.</td>\n",
       "      <td>The word \"member\" is used in the text only once.</td>\n",
       "      <td>entailment</td>\n",
       "      <td>contradiction</td>\n",
       "      <td>It was used 4 times, not only once. It's difficult because the system might not know which word I'm asking it to count.</td>\n",
       "    </tr>\n",
       "    <tr>\n",
       "      <th>15</th>\n",
       "      <td>G.I. Joe: Ninja Battles is a film that was released on DVD in late 2004, as part of the Ninja Battles set of figures. In it, the history of the Arashikage Clan, as well as the history of Snake Eyes and Storm Shadow's rivalry, are examined through a series of trials. Scenes from both \"\" and \"\" are used, with a brief period of new animation at the end of the movie.</td>\n",
       "      <td>The film was released in the cinema.</td>\n",
       "      <td>contradiction</td>\n",
       "      <td>neutral</td>\n",
       "      <td>We know it was released on DVD, but not if it was also shown in cinemas.</td>\n",
       "    </tr>\n",
       "    <tr>\n",
       "      <th>16</th>\n",
       "      <td>Karan Romesh Sharma (Hindi: करन शर्मा ; born 26 October 1981) is an Indian actor. He made his film debut in 2005 Bollywood film \"Dil Jo Bhi Kahey...\" starring opposite Amitabh Bachchan and directed and co-produced by his father Romesh Sharma. The film however did not do well, with Sharma receiving negative reviews. In 2003, he did a Mauritian series \"C'est la vie\", which was telecast in Mauritius.</td>\n",
       "      <td>Karan works in other countries besides his native India</td>\n",
       "      <td>neutral</td>\n",
       "      <td>entailment</td>\n",
       "      <td>Mauritius is another country</td>\n",
       "    </tr>\n",
       "    <tr>\n",
       "      <th>17</th>\n",
       "      <td>The 1979–80 Iraq FA Cup was the fourth edition of the Iraq FA Cup. The tournament was won by Al-Jaish for the first time, beating Al-Talaba 4–2 on penalties in the final after a 1–1 draw in which Jamal Ali scored Al-Talaba's goal. The first two rounds were between teams from the lower division, before the top-flight clubs entered at the round of 16.</td>\n",
       "      <td>Al-Talaba had previously beat Al-Jaish before 1978.</td>\n",
       "      <td>contradiction</td>\n",
       "      <td>neutral</td>\n",
       "      <td>We don't know the stats for that time period.</td>\n",
       "    </tr>\n",
       "    <tr>\n",
       "      <th>18</th>\n",
       "      <td>Macquarie University railway station is located on the Chatswood to Epping line, serving the Sydney suburb of Macquarie Park including the nearby Macquarie University and Macquarie Centre. It is served by Sydney Trains T1 Northern services. It is the only train station in Australia which bears the name of a university.</td>\n",
       "      <td>Macquarie Centre is a rugby stadium.</td>\n",
       "      <td>contradiction</td>\n",
       "      <td>neutral</td>\n",
       "      <td>It could be a rugby stadium, we don't know.</td>\n",
       "    </tr>\n",
       "    <tr>\n",
       "      <th>19</th>\n",
       "      <td>We need the independence to make sure that the office will not interfere with the military structure whatsoever and that it will act as an ombudsman for people in the military structure, either family members in the military, the military personnel themselves or civilian members of the Canadian Armed Forces who are involved with the military.</td>\n",
       "      <td>They will always have independence.</td>\n",
       "      <td>contradiction</td>\n",
       "      <td>neutral</td>\n",
       "      <td>The statement was arguing why they needed independence, however there is no way to know if they will always have independence. That sort of thing can change as time goes on.</td>\n",
       "    </tr>\n",
       "  </tbody>\n",
       "</table>\n",
       "</div>"
      ],
      "text/plain": [
       "                                                                                                                                                                                                                                                                                                                                                                                                             premise  \\\n",
       "0                                                                                                                                                                                                         How to deal with stress about current events<br>Avoid the news in the morning. Negative news in the morning may affect your mood for the rest of the day. When you wake up, try to keep yourself positive.   \n",
       "1                                                                                                                                         Thank You Happy Birthday is the second studio album by American rock band Cage the Elephant. It was released on January 11, 2011 to positive critical reception. The album was produced by Jay Joyce, who worked in the same capacity on the band's eponymous debut album.   \n",
       "2                 It Takes a Village: And Other Lessons Children Teach Us is a book published in 1996 by First Lady of the United States Hillary Rodham Clinton. In it, Clinton presents her vision for the children of America. She focuses on the impact individuals and groups outside the family have, for better or worse, on a child's well-being, and advocates a society which meets all of a child's needs.   \n",
       "3                                                                                                      The 2012 Supercheap Auto Bathurst 1000 was an Australian touring car motor race for V8 Supercars, the twenty-first race of the 2012 International V8 Supercars Championship. It was held on Sunday, 7 October 2012 at the Mount Panorama Circuit on the outskirts of Bathurst, New South Wales, in Australia.   \n",
       "4                                                              Mahalakshmi (Tamil: மகாலட்சுமி ) is an 2017 Indian-Tamil Language Family soap opera starring Kavya Shastry, Vallab, Anjali Rav and Lokesh. It replaced Nijangal and it broadcast on Sun TV on Monday to Saturday from 6 March 2017 at 12:30PM (IST). It was produced by Vision Time India Pvt Ltd and directed by Shan Karthik and M.K.Arunthavaraja.   \n",
       "5                                                                                                                                                                                                                                                   In Italy, big protests by students and university staff against government reforms to higher education brought parts of central Rome to a standstill on Tuesday.   \n",
       "6                                                  Giovanni Visconti — according to Lorenzo Cardella nephew of Pope Gregory X. He was ostensibly created cardinal-bishop of Sabina by his uncle in 1275 and in 1276 was named judge in the case concerning the translation of bishop Giovanni of Potenza to the archbishopric of Monreale, postulated by the cathedral chapter of Monreale. He died in 1277 or 1278.   \n",
       "7                                                                                                                                         The Walkie Talkie<br>The boys loved playing outside. They had walkie talkies that the used to talk to each other. They would run through the woods and keep in contact with them. They played this game all summer. THey couldn't wait until next summer to play it again!   \n",
       "8                 Edward M. \"Teddy\" Sears (born April 6, 1977) is an American actor, known for his roles as Richard Patrick Woolsley on the TNT legal drama series \"Raising the Bar\", Patrick on the first season of FX anthology horror drama \"American Horror Story\" (retroactively titled \"\"), Dr. Austin Langham on the \"Showtime\" period drama series \"Masters of Sex\", and Hunter Zolomon/Zoom in \"The Flash\".   \n",
       "9                                                                  Scooter is an animated character used by Fox Sports during Major League Baseball games. The character, a baseball with human facial characteristics, is voiced by Tom Kenny (best known for his work as the voice of SpongeBob SquarePants) and was designed by Fox to explain different types of pitches with the education of children in mind.   \n",
       "10             A group of protesters cheer and take turns kicking a toppled Confederate soldier statue during an 'Emergency Durham Protest' at the old Durham County Courthouse in response to the violent protests Saturday in Charlottesville, on Monday, Aug. 14, 2017, in Durham, NC. The group proceeded to march to the site of the new police headquarters under construction. Casey Toth ctoth@heraldsun.com   \n",
       "11                                                                                         WASHINGTON (Reuters) - U.S. Supreme Court nominee Brett Kavanaugh and the woman who accused him of sexual assault will testify next Monday at a public hearing of the Senate Judiciary Committee, the panel’s chairman, Senator Chuck Grassley, said in a statement. Reporting by Eric Beech; Editing by Mohammad Zargham   \n",
       "12                                                                                        All India Kashmir Committee was set up by prominent Muslim leaders of India on July 25, 1931. Muhammad Iqbal and a number of other leaders were invited by Mirza Bashir-ud-Din Mahmood Ahmad to form the committee. Although orthodox press and historians attribute the formation of the Committee to Dr. Muhammad Iqbal.   \n",
       "13                                         How to come out to your best friend without giving her the wrong idea<br>Ask your friend to meet you someplace. Call her up, send her a text on her cell, email her, or ask her to meet you in person. Say this or something similar to this: \" jessica, can you meet me at the coffee shop on belmont tomorrow after you get off work? \" Give her a moment to settle in.   \n",
       "14                                                                                                                 It is the work of the official opposition research and communications people, with the supervision and involvement of the hon. member for Medicine Hat, the hon. member for Calgary Southeast, the hon. member for Prince George-Bulkley Valley and the hon. member for Battlefords-Lloydminster.   \n",
       "15                                     G.I. Joe: Ninja Battles is a film that was released on DVD in late 2004, as part of the Ninja Battles set of figures. In it, the history of the Arashikage Clan, as well as the history of Snake Eyes and Storm Shadow's rivalry, are examined through a series of trials. Scenes from both \"\" and \"\" are used, with a brief period of new animation at the end of the movie.   \n",
       "16  Karan Romesh Sharma (Hindi: करन शर्मा ; born 26 October 1981) is an Indian actor. He made his film debut in 2005 Bollywood film \"Dil Jo Bhi Kahey...\" starring opposite Amitabh Bachchan and directed and co-produced by his father Romesh Sharma. The film however did not do well, with Sharma receiving negative reviews. In 2003, he did a Mauritian series \"C'est la vie\", which was telecast in Mauritius.   \n",
       "17                                                   The 1979–80 Iraq FA Cup was the fourth edition of the Iraq FA Cup. The tournament was won by Al-Jaish for the first time, beating Al-Talaba 4–2 on penalties in the final after a 1–1 draw in which Jamal Ali scored Al-Talaba's goal. The first two rounds were between teams from the lower division, before the top-flight clubs entered at the round of 16.   \n",
       "18                                                                                  Macquarie University railway station is located on the Chatswood to Epping line, serving the Sydney suburb of Macquarie Park including the nearby Macquarie University and Macquarie Centre. It is served by Sydney Trains T1 Northern services. It is the only train station in Australia which bears the name of a university.   \n",
       "19                                                          We need the independence to make sure that the office will not interfere with the military structure whatsoever and that it will act as an ombudsman for people in the military structure, either family members in the military, the military personnel themselves or civilian members of the Canadian Armed Forces who are involved with the military.   \n",
       "\n",
       "                                                                                                       hypothesis  \\\n",
       "0                                                             You should find something enjoyable in the morning.   \n",
       "1                         Cage the Elephant had positive reviews thanks to the work of Jay Joyce who produced it.   \n",
       "2   The rest of the title of \"It Takes a Village\" is \"The Impact Individuals and Groups Outside the Family Have\".   \n",
       "3                                      The 2012 Supercheap Auto Bathurst 1000 has never been won by a motorcycle.   \n",
       "4                                  in 2017 Mahalakshmi was broadcast for the first time when it replaced Nijangal   \n",
       "5         Big student and university staff protests brought parts of the Roman Empire to a standstill on Tuesday.   \n",
       "6                                                                   Giovanni Visconti died in both 1277 and 1278.   \n",
       "7                                The walkie talkies made it easy for the boys to keep in contact with each other    \n",
       "8                                                                          Edward was not good enough for movies.   \n",
       "9                                         Scooter is a sphere-shaped character with human facial characteristics.   \n",
       "10                 Protesters were kicking the toppled Confederate statue because they were upset it was toppled.   \n",
       "11                                                                                 Brett Kavanaugh is a criminal.   \n",
       "12                                                                    All India Kashmir Committee included Hindus   \n",
       "13                                                                                        The narrator is female.   \n",
       "14                                                               The word \"member\" is used in the text only once.   \n",
       "15                                                                           The film was released in the cinema.   \n",
       "16                                                       Karan works in other countries besides his native India    \n",
       "17                                                            Al-Talaba had previously beat Al-Jaish before 1978.   \n",
       "18                                                                          Macquarie Centre is a rugby stadium.    \n",
       "19                                                                            They will always have independence.   \n",
       "\n",
       "       pred_label     gold_label  \\\n",
       "0         neutral     entailment   \n",
       "1      entailment        neutral   \n",
       "2      entailment  contradiction   \n",
       "3         neutral     entailment   \n",
       "4         neutral     entailment   \n",
       "5      entailment  contradiction   \n",
       "6      entailment  contradiction   \n",
       "7         neutral     entailment   \n",
       "8   contradiction        neutral   \n",
       "9   contradiction     entailment   \n",
       "10        neutral  contradiction   \n",
       "11  contradiction        neutral   \n",
       "12  contradiction        neutral   \n",
       "13     entailment        neutral   \n",
       "14     entailment  contradiction   \n",
       "15  contradiction        neutral   \n",
       "16        neutral     entailment   \n",
       "17  contradiction        neutral   \n",
       "18  contradiction        neutral   \n",
       "19  contradiction        neutral   \n",
       "\n",
       "                                                                                                                                                                                                                                                                                                                                                                reason  \n",
       "0                                                                                                                                                                                                                                                                                                                             You should stay positive in the morning.  \n",
       "1                                                                                                                                                                                                                                                                         How can you possibly know from above if the producer is the reason the album was successful?  \n",
       "2                                                                                                                                                                                                                                  It's incorrect because the rest of the title is something else. It fooled the system because I used part of a sentence in the info.  \n",
       "3                                                                                                                                                                                                                                                                                                                         It's a supercar race, not a motorcycle race.  \n",
       "4                                                                                                                                                The show Mahalakshmi was broadcast first in 2017 after it replaced Nijangal. I think it was hard for the computer because i used parts of the context that were separated by big parts of text and changed some words  \n",
       "5                                                                                                                                                                                                                                                                                 It is common knowledge that the Roman Empire no longer exists so this is incorrect.   \n",
       "6                                                                                                                                                                                                                                                                         He died in one of the two listed years, not both, as reflected by the word \"or\" in the text.  \n",
       "7                                                                                                                                            The whole context is about how the boys used the walkie talkies to talk to each other the whole summer. I think the system didn't guess right because I didn't use a lot of the same words from the context in my answer.  \n",
       "8                                                                                                                                                                                                                                                                                                                 There was no mention of movies so that is not known.  \n",
       "9                                                                                                                                                               Baseball's are sphere-shaped and Scooter is a baseball with human facial characteristics.  I think this was difficult for the system because they would have to know that a baseball is sphere-shaped.  \n",
       "10  The paragraph describes the protesters as cheering and kicking the statue.  It is clear that these people view the statue as racist and are happy it was toppled.  Thus, my statement is definitely incorrect.  The system probably doesn't think a reason for their behavior can be inferred, or perhaps doesn't understand the implications of the word \"cheer.\"  \n",
       "11                                                                                                                                                                                                                                                                                                                                       The text does not state this.  \n",
       "12                                                                                                                                                                                                                                                                                     The narrative never specified that Hindus were excluded, the system assumes so.  \n",
       "13                                                                                                                                        The scenario never explicitly states the gender of the narrator, however for Jessica to 'get the wrong idea' it is implied that the narrator is of the same sex and therefore worried about giving her the wrong impression.  \n",
       "14                                                                                                                                                                                                                                             It was used 4 times, not only once. It's difficult because the system might not know which word I'm asking it to count.  \n",
       "15                                                                                                                                                                                                                                                                                            We know it was released on DVD, but not if it was also shown in cinemas.  \n",
       "16                                                                                                                                                                                                                                                                                                                                       Mauritius is another country   \n",
       "17                                                                                                                                                                                                                                                                                                                       We don't know the stats for that time period.  \n",
       "18                                                                                                                                                                                                                                                                                                                        It could be a rugby stadium, we don't know.   \n",
       "19                                                                                                                                                                                       The statement was arguing why they needed independence, however there is no way to know if they will always have independence. That sort of thing can change as time goes on.  "
      ]
     },
     "execution_count": 73,
     "metadata": {},
     "output_type": "execute_result"
    }
   ],
   "source": [
    "error_df.to_csv(\"anli_errors.csv\", index=False)\n",
    "error_df"
   ]
  }
 ],
 "metadata": {
  "kernelspec": {
   "display_name": "hw2",
   "language": "python",
   "name": "python3"
  },
  "language_info": {
   "codemirror_mode": {
    "name": "ipython",
    "version": 3
   },
   "file_extension": ".py",
   "mimetype": "text/x-python",
   "name": "python",
   "nbconvert_exporter": "python",
   "pygments_lexer": "ipython3",
   "version": "3.11.12"
  }
 },
 "nbformat": 4,
 "nbformat_minor": 5
}
