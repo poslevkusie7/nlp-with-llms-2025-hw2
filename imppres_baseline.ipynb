{
 "cells": [
  {
   "cell_type": "markdown",
   "id": "c468709d",
   "metadata": {},
   "source": [
    "# ImpPres Baseline\n",
    "\n",
    "This notebook illustrates how to use the DeBERTa-v3-base-mnli-fever-anli model to perform specialized inference on the ImpPres dataset."
   ]
  },
  {
   "cell_type": "code",
   "execution_count": 1,
   "id": "2cec0d02",
   "metadata": {},
   "outputs": [],
   "source": [
    "from transformers import AutoTokenizer, AutoModelForSequenceClassification\n",
    "import torch\n",
    "device = torch.device(\"cuda\") if torch.cuda.is_available() else torch.device(\"cpu\")\n",
    "\n",
    "model_name = \"MoritzLaurer/DeBERTa-v3-base-mnli-fever-anli\"\n",
    "tokenizer = AutoTokenizer.from_pretrained(model_name)\n",
    "model = AutoModelForSequenceClassification.from_pretrained(model_name)"
   ]
  },
  {
   "cell_type": "code",
   "execution_count": 2,
   "id": "0cfe31ba",
   "metadata": {},
   "outputs": [],
   "source": [
    "label_names = [\"entailment\", \"neutral\", \"contradiction\"]\n",
    "def evaluate(premise, hypothesis):\n",
    "    input = tokenizer(premise, hypothesis, truncation=True, return_tensors=\"pt\")\n",
    "    output = model(input[\"input_ids\"].to(device))\n",
    "    prediction = torch.softmax(output[\"logits\"][0], -1).tolist()\n",
    "    prediction = {name: round(float(pred) * 100, 1) for pred, name in zip(prediction, label_names)}\n",
    "    return prediction"
   ]
  },
  {
   "cell_type": "code",
   "execution_count": 3,
   "id": "a2954d97",
   "metadata": {},
   "outputs": [
    {
     "name": "stderr",
     "output_type": "stream",
     "text": [
      "Asking to truncate to max_length but no maximum length is provided and the model has no predefined maximum length. Default to no truncation.\n"
     ]
    },
    {
     "data": {
      "text/plain": [
       "{'entailment': 0.1, 'neutral': 99.8, 'contradiction': 0.0}"
      ]
     },
     "execution_count": 3,
     "metadata": {},
     "output_type": "execute_result"
    }
   ],
   "source": [
    "evaluate(\"The weather is nice today.\", \"It is sunny outside.\")"
   ]
  },
  {
   "cell_type": "code",
   "execution_count": 3,
   "id": "923ea5e0",
   "metadata": {},
   "outputs": [],
   "source": [
    "def get_prediction(pred_dict):\n",
    "    if pred_dict[\"entailment\"] > pred_dict[\"contradiction\"]  and pred_dict[\"entailment\"] > pred_dict[\"neutral\"]:\n",
    "        return \"entailment\"\n",
    "    elif pred_dict[\"contradiction\"] > pred_dict[\"entailment\"]:\n",
    "        return \"contradiction\"\n",
    "    else:\n",
    "        return \"neutral\""
   ]
  },
  {
   "cell_type": "markdown",
   "id": "17ab422d",
   "metadata": {},
   "source": [
    "## Load ImpPres Dataset"
   ]
  },
  {
   "cell_type": "code",
   "execution_count": 4,
   "id": "b8262068",
   "metadata": {},
   "outputs": [],
   "source": [
    "# Evaluate the model on the ImpPres dataset\n",
    "from tqdm import tqdm\n",
    "def evaluate_on_dataset(dataset):\n",
    "    results = []\n",
    "    label_names = [\"entailment\", \"neutral\", \"contradiction\"]\n",
    "    for example in tqdm(dataset):\n",
    "        premise = example['premise']\n",
    "        hypothesis = example['hypothesis']\n",
    "        prediction = evaluate(premise, hypothesis)\n",
    "        results.append({\n",
    "            'premise': premise,\n",
    "            'hypothesis': hypothesis,\n",
    "            'prediction': prediction,\n",
    "            'pred_label': get_prediction(prediction),\n",
    "            'gold_label': label_names[example['gold_label']],\n",
    "        })\n",
    "    return results"
   ]
  },
  {
   "cell_type": "markdown",
   "id": "ea8e1258",
   "metadata": {},
   "source": [
    "## Evaluate Metrics\n",
    "\n",
    "Let's use the huggingface `evaluate` package to compute the performance of the baseline.\n"
   ]
  },
  {
   "cell_type": "code",
   "execution_count": 5,
   "id": "0e2e9027",
   "metadata": {},
   "outputs": [],
   "source": [
    "from evaluate import load\n",
    "\n",
    "accuracy = load(\"accuracy\")\n",
    "precision = load(\"precision\")\n",
    "recall = load(\"recall\")\n",
    "f1 = load(\"f1\")\n"
   ]
  },
  {
   "cell_type": "code",
   "execution_count": 6,
   "id": "1ab24e1b",
   "metadata": {},
   "outputs": [],
   "source": [
    "from evaluate import combine\n",
    "clf_metrics = combine([\"accuracy\", \"f1\", \"precision\", \"recall\"])"
   ]
  },
  {
   "cell_type": "code",
   "execution_count": 8,
   "id": "5d04f0c1",
   "metadata": {},
   "outputs": [
    {
     "data": {
      "text/plain": [
       "{'accuracy': 0.6666666666666666,\n",
       " 'f1': 0.6666666666666666,\n",
       " 'precision': 1.0,\n",
       " 'recall': 0.5}"
      ]
     },
     "execution_count": 8,
     "metadata": {},
     "output_type": "execute_result"
    }
   ],
   "source": [
    "clf_metrics.compute(predictions=[0, 1, 0], references=[0, 1, 1])"
   ]
  },
  {
   "cell_type": "markdown",
   "id": "0909d58b",
   "metadata": {},
   "source": [
    "## Your Turn\n",
    "\n",
    "Compute the classification metrics on the baseline model on each section of the ImpPres dataset.\n",
    "\n",
    "https://www.kaggle.com/code/faijanahamadkhan/llm-evaluation-framework-hugging-face provides good documentation on how to use the Huggingface evaluate library."
   ]
  },
  {
   "cell_type": "markdown",
   "id": "a51fbc81",
   "metadata": {},
   "source": []
  },
  {
   "cell_type": "code",
   "execution_count": 7,
   "id": "624dd0d3",
   "metadata": {},
   "outputs": [],
   "source": [
    "def strip_presupposition_prefix(s: str) -> str:\n",
    "    prefix = \"presupposition_\"\n",
    "    if s.startswith(prefix):\n",
    "        return s[len(prefix):]\n",
    "    return s"
   ]
  },
  {
   "cell_type": "code",
   "execution_count": 11,
   "id": "c321de12",
   "metadata": {},
   "outputs": [
    {
     "name": "stdout",
     "output_type": "stream",
     "text": [
      "Evaluating section: all_n_presupposition\n"
     ]
    },
    {
     "name": "stderr",
     "output_type": "stream",
     "text": [
      "100%|██████████| 633/633 [03:43<00:00,  2.83it/s]\n"
     ]
    },
    {
     "name": "stdout",
     "output_type": "stream",
     "text": [
      "Evaluating section: both_presupposition\n"
     ]
    },
    {
     "name": "stderr",
     "output_type": "stream",
     "text": [
      "100%|██████████| 633/633 [03:32<00:00,  2.98it/s]\n"
     ]
    },
    {
     "name": "stdout",
     "output_type": "stream",
     "text": [
      "Evaluating section: change_of_state\n"
     ]
    },
    {
     "name": "stderr",
     "output_type": "stream",
     "text": [
      "100%|██████████| 633/633 [03:17<00:00,  3.20it/s]\n"
     ]
    },
    {
     "name": "stdout",
     "output_type": "stream",
     "text": [
      "Evaluating section: cleft_existence\n"
     ]
    },
    {
     "name": "stderr",
     "output_type": "stream",
     "text": [
      "100%|██████████| 633/633 [03:21<00:00,  3.15it/s]\n"
     ]
    },
    {
     "name": "stdout",
     "output_type": "stream",
     "text": [
      "Evaluating section: cleft_uniqueness\n"
     ]
    },
    {
     "name": "stderr",
     "output_type": "stream",
     "text": [
      "100%|██████████| 633/633 [03:43<00:00,  2.83it/s]\n"
     ]
    },
    {
     "name": "stdout",
     "output_type": "stream",
     "text": [
      "Evaluating section: only_presupposition\n"
     ]
    },
    {
     "name": "stderr",
     "output_type": "stream",
     "text": [
      "100%|██████████| 633/633 [12:19<00:00,  1.17s/it]    \n"
     ]
    },
    {
     "name": "stdout",
     "output_type": "stream",
     "text": [
      "Evaluating section: possessed_definites_existence\n"
     ]
    },
    {
     "name": "stderr",
     "output_type": "stream",
     "text": [
      "100%|██████████| 633/633 [03:46<00:00,  2.79it/s]\n"
     ]
    },
    {
     "name": "stdout",
     "output_type": "stream",
     "text": [
      "Evaluating section: possessed_definites_uniqueness\n"
     ]
    },
    {
     "name": "stderr",
     "output_type": "stream",
     "text": [
      "100%|██████████| 633/633 [06:57<00:00,  1.52it/s]  \n"
     ]
    },
    {
     "name": "stdout",
     "output_type": "stream",
     "text": [
      "Evaluating section: question_presupposition\n"
     ]
    },
    {
     "name": "stderr",
     "output_type": "stream",
     "text": [
      "100%|██████████| 633/633 [03:47<00:00,  2.78it/s]\n"
     ]
    },
    {
     "name": "stdout",
     "output_type": "stream",
     "text": [
      "\n",
      "Final Metrics Table:\n",
      "                       section  accuracy       f1  precision   recall\n",
      "          all_n_presupposition  0.448657 0.398995   0.409991 0.459229\n",
      "           both_presupposition  0.379147 0.300995   0.260814 0.380893\n",
      "               change_of_state  0.304897 0.311641   0.336039 0.320337\n",
      "               cleft_existence  0.646130 0.638290   0.677988 0.694040\n",
      "              cleft_uniqueness  0.181675 0.175513   0.197492 0.171711\n",
      "           only_presupposition  0.567141 0.547770   0.624397 0.622952\n",
      " possessed_definites_existence  0.658768 0.649411   0.797065 0.726513\n",
      "possessed_definites_uniqueness  0.382306 0.290248   0.246895 0.374799\n",
      "       question_presupposition  0.619273 0.587102   0.712293 0.692381\n",
      "                           ALL  0.465333 0.457223   0.482703 0.493651\n"
     ]
    }
   ],
   "source": [
    "import pandas as pd\n",
    "from evaluate import load\n",
    "\n",
    "# load metrics separately\n",
    "accuracy_metric = load(\"accuracy\")\n",
    "f1_metric = load(\"f1\")\n",
    "precision_metric = load(\"precision\")\n",
    "recall_metric = load(\"recall\")\n",
    "\n",
    "def evaluate_from_loaded_csv(csv_path):\n",
    "    df = pd.read_csv(csv_path)\n",
    "    label_to_id = {\"entailment\": 0, \"neutral\": 1, \"contradiction\": 2}\n",
    "\n",
    "    all_results = []\n",
    "    metrics_table = []\n",
    "\n",
    "    for section, section_df in df.groupby(\"section\"):\n",
    "        print(f\"Evaluating section: {section}\")\n",
    "\n",
    "        results = evaluate_on_dataset(section_df.to_dict(orient=\"records\"))\n",
    "        preds = [label_to_id[res['pred_label']] for res in results]\n",
    "        refs  = [label_to_id[res['gold_label']] for res in results]\n",
    "\n",
    "        metrics = {\n",
    "            \"accuracy\": accuracy_metric.compute(predictions=preds, references=refs)[\"accuracy\"],\n",
    "            \"f1\": f1_metric.compute(predictions=preds, references=refs, average=\"macro\")[\"f1\"],\n",
    "            \"precision\": precision_metric.compute(predictions=preds, references=refs, average=\"macro\")[\"precision\"],\n",
    "            \"recall\": recall_metric.compute(predictions=preds, references=refs, average=\"macro\")[\"recall\"],\n",
    "        }\n",
    "\n",
    "        row = {\"section\": section, **metrics}\n",
    "        metrics_table.append(row)\n",
    "        all_results.extend(results)\n",
    "\n",
    "    # overall metrics\n",
    "    all_preds = [label_to_id[res['pred_label']] for res in all_results]\n",
    "    all_refs  = [label_to_id[res['gold_label']] for res in all_results]\n",
    "\n",
    "    overall = {\n",
    "        \"accuracy\": accuracy_metric.compute(predictions=all_preds, references=all_refs)[\"accuracy\"],\n",
    "        \"f1\": f1_metric.compute(predictions=all_preds, references=all_refs, average=\"macro\")[\"f1\"],\n",
    "        \"precision\": precision_metric.compute(predictions=all_preds, references=all_refs, average=\"macro\")[\"precision\"],\n",
    "        \"recall\": recall_metric.compute(predictions=all_preds, references=all_refs, average=\"macro\")[\"recall\"],\n",
    "    }\n",
    "    metrics_table.append({\"section\": \"ALL\", **overall})\n",
    "\n",
    "    metrics_df = pd.DataFrame(metrics_table)\n",
    "    print(\"\\nFinal Metrics Table:\")\n",
    "    print(metrics_df.to_string(index=False))\n",
    "\n",
    "    all_results_df = pd.DataFrame(all_results)\n",
    "    all_results_df.to_csv(\"baseline_results.csv\", index=False)\n",
    "    return metrics_df\n",
    "\n",
    "# usage\n",
    "metrics_df = evaluate_from_loaded_csv(\"combined_presuppositions.csv\")\n"
   ]
  },
  {
   "cell_type": "code",
   "execution_count": 12,
   "id": "589a979c",
   "metadata": {},
   "outputs": [
    {
     "name": "stdout",
     "output_type": "stream",
     "text": [
      "\n",
      "Beautiful Results Table:\n"
     ]
    },
    {
     "data": {
      "text/html": [
       "<style type=\"text/css\">\n",
       "#T_73d55 thead th {\n",
       "  background-color: #4CAF50;\n",
       "  color: white;\n",
       "  font-weight: bold;\n",
       "  text-align: center;\n",
       "}\n",
       "#T_73d55 tbody td {\n",
       "  text-align: center;\n",
       "}\n",
       "#T_73d55_row0_col1 {\n",
       "  width: 10em;\n",
       "  background: linear-gradient(90deg, #87A7EBE8 68.1%, transparent 68.1%);\n",
       "}\n",
       "#T_73d55_row0_col2 {\n",
       "  width: 10em;\n",
       "  background: linear-gradient(90deg, #87A7EBE8 61.5%, transparent 61.5%);\n",
       "}\n",
       "#T_73d55_row0_col3 {\n",
       "  width: 10em;\n",
       "  background: linear-gradient(90deg, #87A7EBE8 51.4%, transparent 51.4%);\n",
       "}\n",
       "#T_73d55_row0_col4 {\n",
       "  width: 10em;\n",
       "  background: linear-gradient(90deg, #87A7EBE8 63.1%, transparent 63.1%);\n",
       "}\n",
       "#T_73d55_row1_col1 {\n",
       "  width: 10em;\n",
       "  background: linear-gradient(90deg, #87A7EBE8 57.5%, transparent 57.5%);\n",
       "}\n",
       "#T_73d55_row1_col2 {\n",
       "  width: 10em;\n",
       "  background: linear-gradient(90deg, #87A7EBE8 46.4%, transparent 46.4%);\n",
       "}\n",
       "#T_73d55_row1_col3 {\n",
       "  width: 10em;\n",
       "  background: linear-gradient(90deg, #87A7EBE8 32.7%, transparent 32.7%);\n",
       "}\n",
       "#T_73d55_row1_col4 {\n",
       "  width: 10em;\n",
       "  background: linear-gradient(90deg, #87A7EBE8 52.4%, transparent 52.4%);\n",
       "}\n",
       "#T_73d55_row2_col1 {\n",
       "  width: 10em;\n",
       "  background: linear-gradient(90deg, #87A7EBE8 46.3%, transparent 46.3%);\n",
       "}\n",
       "#T_73d55_row2_col2 {\n",
       "  width: 10em;\n",
       "  background: linear-gradient(90deg, #87A7EBE8 48.1%, transparent 48.1%);\n",
       "}\n",
       "#T_73d55_row2_col3 {\n",
       "  width: 10em;\n",
       "  background: linear-gradient(90deg, #87A7EBE8 42.2%, transparent 42.2%);\n",
       "}\n",
       "#T_73d55_row2_col4 {\n",
       "  width: 10em;\n",
       "  background: linear-gradient(90deg, #87A7EBE8 44.0%, transparent 44.0%);\n",
       "}\n",
       "#T_73d55_row3_col1 {\n",
       "  width: 10em;\n",
       "  background: linear-gradient(90deg, #87A7EBE8 98.0%, transparent 98.0%);\n",
       "}\n",
       "#T_73d55_row3_col2 {\n",
       "  width: 10em;\n",
       "  background: linear-gradient(90deg, #87A7EBE8 98.3%, transparent 98.3%);\n",
       "}\n",
       "#T_73d55_row3_col3 {\n",
       "  width: 10em;\n",
       "  background: linear-gradient(90deg, #87A7EBE8 85.1%, transparent 85.1%);\n",
       "}\n",
       "#T_73d55_row3_col4 {\n",
       "  width: 10em;\n",
       "  background: linear-gradient(90deg, #87A7EBE8 95.5%, transparent 95.5%);\n",
       "}\n",
       "#T_73d55_row4_col1 {\n",
       "  width: 10em;\n",
       "  background: linear-gradient(90deg, #87A7EBE8 27.6%, transparent 27.6%);\n",
       "}\n",
       "#T_73d55_row4_col2 {\n",
       "  width: 10em;\n",
       "  background: linear-gradient(90deg, #87A7EBE8 27.1%, transparent 27.1%);\n",
       "}\n",
       "#T_73d55_row4_col3 {\n",
       "  width: 10em;\n",
       "  background: linear-gradient(90deg, #87A7EBE8 24.7%, transparent 24.7%);\n",
       "}\n",
       "#T_73d55_row4_col4 {\n",
       "  width: 10em;\n",
       "  background: linear-gradient(90deg, #87A7EBE8 23.7%, transparent 23.7%);\n",
       "}\n",
       "#T_73d55_row5_col1 {\n",
       "  width: 10em;\n",
       "  background: linear-gradient(90deg, #87A7EBE8 86.0%, transparent 86.0%);\n",
       "}\n",
       "#T_73d55_row5_col2 {\n",
       "  width: 10em;\n",
       "  background: linear-gradient(90deg, #87A7EBE8 84.4%, transparent 84.4%);\n",
       "}\n",
       "#T_73d55_row5_col3 {\n",
       "  width: 10em;\n",
       "  background: linear-gradient(90deg, #87A7EBE8 78.3%, transparent 78.3%);\n",
       "}\n",
       "#T_73d55_row5_col4 {\n",
       "  width: 10em;\n",
       "  background: linear-gradient(90deg, #87A7EBE8 85.7%, transparent 85.7%);\n",
       "}\n",
       "#T_73d55_row6_col1, #T_73d55_row6_col2, #T_73d55_row6_col3, #T_73d55_row6_col4 {\n",
       "  width: 10em;\n",
       "  background: linear-gradient(90deg, #87A7EBE8 100.0%, transparent 100.0%);\n",
       "}\n",
       "#T_73d55_row7_col1 {\n",
       "  width: 10em;\n",
       "  background: linear-gradient(90deg, #87A7EBE8 58.0%, transparent 58.0%);\n",
       "}\n",
       "#T_73d55_row7_col2 {\n",
       "  width: 10em;\n",
       "  background: linear-gradient(90deg, #87A7EBE8 44.7%, transparent 44.7%);\n",
       "}\n",
       "#T_73d55_row7_col3 {\n",
       "  width: 10em;\n",
       "  background: linear-gradient(90deg, #87A7EBE8 31.0%, transparent 31.0%);\n",
       "}\n",
       "#T_73d55_row7_col4 {\n",
       "  width: 10em;\n",
       "  background: linear-gradient(90deg, #87A7EBE8 51.6%, transparent 51.6%);\n",
       "}\n",
       "#T_73d55_row8_col1 {\n",
       "  width: 10em;\n",
       "  background: linear-gradient(90deg, #87A7EBE8 93.9%, transparent 93.9%);\n",
       "}\n",
       "#T_73d55_row8_col2 {\n",
       "  width: 10em;\n",
       "  background: linear-gradient(90deg, #87A7EBE8 90.4%, transparent 90.4%);\n",
       "}\n",
       "#T_73d55_row8_col3 {\n",
       "  width: 10em;\n",
       "  background: linear-gradient(90deg, #87A7EBE8 89.3%, transparent 89.3%);\n",
       "}\n",
       "#T_73d55_row8_col4 {\n",
       "  width: 10em;\n",
       "  background: linear-gradient(90deg, #87A7EBE8 95.2%, transparent 95.2%);\n",
       "}\n",
       "#T_73d55_row9_col1 {\n",
       "  width: 10em;\n",
       "  background: linear-gradient(90deg, #87A7EBE8 70.6%, transparent 70.6%);\n",
       "}\n",
       "#T_73d55_row9_col2 {\n",
       "  width: 10em;\n",
       "  background: linear-gradient(90deg, #87A7EBE8 70.4%, transparent 70.4%);\n",
       "}\n",
       "#T_73d55_row9_col3 {\n",
       "  width: 10em;\n",
       "  background: linear-gradient(90deg, #87A7EBE8 60.6%, transparent 60.6%);\n",
       "}\n",
       "#T_73d55_row9_col4 {\n",
       "  width: 10em;\n",
       "  background: linear-gradient(90deg, #87A7EBE8 68.0%, transparent 68.0%);\n",
       "}\n",
       "</style>\n",
       "<table id=\"T_73d55\">\n",
       "  <thead>\n",
       "    <tr>\n",
       "      <th class=\"blank level0\" >&nbsp;</th>\n",
       "      <th id=\"T_73d55_level0_col0\" class=\"col_heading level0 col0\" >section</th>\n",
       "      <th id=\"T_73d55_level0_col1\" class=\"col_heading level0 col1\" >accuracy</th>\n",
       "      <th id=\"T_73d55_level0_col2\" class=\"col_heading level0 col2\" >f1</th>\n",
       "      <th id=\"T_73d55_level0_col3\" class=\"col_heading level0 col3\" >precision</th>\n",
       "      <th id=\"T_73d55_level0_col4\" class=\"col_heading level0 col4\" >recall</th>\n",
       "    </tr>\n",
       "  </thead>\n",
       "  <tbody>\n",
       "    <tr>\n",
       "      <th id=\"T_73d55_level0_row0\" class=\"row_heading level0 row0\" >0</th>\n",
       "      <td id=\"T_73d55_row0_col0\" class=\"data row0 col0\" >all_n_presupposition</td>\n",
       "      <td id=\"T_73d55_row0_col1\" class=\"data row0 col1\" >0.449</td>\n",
       "      <td id=\"T_73d55_row0_col2\" class=\"data row0 col2\" >0.399</td>\n",
       "      <td id=\"T_73d55_row0_col3\" class=\"data row0 col3\" >0.410</td>\n",
       "      <td id=\"T_73d55_row0_col4\" class=\"data row0 col4\" >0.459</td>\n",
       "    </tr>\n",
       "    <tr>\n",
       "      <th id=\"T_73d55_level0_row1\" class=\"row_heading level0 row1\" >1</th>\n",
       "      <td id=\"T_73d55_row1_col0\" class=\"data row1 col0\" >both_presupposition</td>\n",
       "      <td id=\"T_73d55_row1_col1\" class=\"data row1 col1\" >0.379</td>\n",
       "      <td id=\"T_73d55_row1_col2\" class=\"data row1 col2\" >0.301</td>\n",
       "      <td id=\"T_73d55_row1_col3\" class=\"data row1 col3\" >0.261</td>\n",
       "      <td id=\"T_73d55_row1_col4\" class=\"data row1 col4\" >0.381</td>\n",
       "    </tr>\n",
       "    <tr>\n",
       "      <th id=\"T_73d55_level0_row2\" class=\"row_heading level0 row2\" >2</th>\n",
       "      <td id=\"T_73d55_row2_col0\" class=\"data row2 col0\" >change_of_state</td>\n",
       "      <td id=\"T_73d55_row2_col1\" class=\"data row2 col1\" >0.305</td>\n",
       "      <td id=\"T_73d55_row2_col2\" class=\"data row2 col2\" >0.312</td>\n",
       "      <td id=\"T_73d55_row2_col3\" class=\"data row2 col3\" >0.336</td>\n",
       "      <td id=\"T_73d55_row2_col4\" class=\"data row2 col4\" >0.320</td>\n",
       "    </tr>\n",
       "    <tr>\n",
       "      <th id=\"T_73d55_level0_row3\" class=\"row_heading level0 row3\" >3</th>\n",
       "      <td id=\"T_73d55_row3_col0\" class=\"data row3 col0\" >cleft_existence</td>\n",
       "      <td id=\"T_73d55_row3_col1\" class=\"data row3 col1\" >0.646</td>\n",
       "      <td id=\"T_73d55_row3_col2\" class=\"data row3 col2\" >0.638</td>\n",
       "      <td id=\"T_73d55_row3_col3\" class=\"data row3 col3\" >0.678</td>\n",
       "      <td id=\"T_73d55_row3_col4\" class=\"data row3 col4\" >0.694</td>\n",
       "    </tr>\n",
       "    <tr>\n",
       "      <th id=\"T_73d55_level0_row4\" class=\"row_heading level0 row4\" >4</th>\n",
       "      <td id=\"T_73d55_row4_col0\" class=\"data row4 col0\" >cleft_uniqueness</td>\n",
       "      <td id=\"T_73d55_row4_col1\" class=\"data row4 col1\" >0.182</td>\n",
       "      <td id=\"T_73d55_row4_col2\" class=\"data row4 col2\" >0.176</td>\n",
       "      <td id=\"T_73d55_row4_col3\" class=\"data row4 col3\" >0.197</td>\n",
       "      <td id=\"T_73d55_row4_col4\" class=\"data row4 col4\" >0.172</td>\n",
       "    </tr>\n",
       "    <tr>\n",
       "      <th id=\"T_73d55_level0_row5\" class=\"row_heading level0 row5\" >5</th>\n",
       "      <td id=\"T_73d55_row5_col0\" class=\"data row5 col0\" >only_presupposition</td>\n",
       "      <td id=\"T_73d55_row5_col1\" class=\"data row5 col1\" >0.567</td>\n",
       "      <td id=\"T_73d55_row5_col2\" class=\"data row5 col2\" >0.548</td>\n",
       "      <td id=\"T_73d55_row5_col3\" class=\"data row5 col3\" >0.624</td>\n",
       "      <td id=\"T_73d55_row5_col4\" class=\"data row5 col4\" >0.623</td>\n",
       "    </tr>\n",
       "    <tr>\n",
       "      <th id=\"T_73d55_level0_row6\" class=\"row_heading level0 row6\" >6</th>\n",
       "      <td id=\"T_73d55_row6_col0\" class=\"data row6 col0\" >possessed_definites_existence</td>\n",
       "      <td id=\"T_73d55_row6_col1\" class=\"data row6 col1\" >0.659</td>\n",
       "      <td id=\"T_73d55_row6_col2\" class=\"data row6 col2\" >0.649</td>\n",
       "      <td id=\"T_73d55_row6_col3\" class=\"data row6 col3\" >0.797</td>\n",
       "      <td id=\"T_73d55_row6_col4\" class=\"data row6 col4\" >0.727</td>\n",
       "    </tr>\n",
       "    <tr>\n",
       "      <th id=\"T_73d55_level0_row7\" class=\"row_heading level0 row7\" >7</th>\n",
       "      <td id=\"T_73d55_row7_col0\" class=\"data row7 col0\" >possessed_definites_uniqueness</td>\n",
       "      <td id=\"T_73d55_row7_col1\" class=\"data row7 col1\" >0.382</td>\n",
       "      <td id=\"T_73d55_row7_col2\" class=\"data row7 col2\" >0.290</td>\n",
       "      <td id=\"T_73d55_row7_col3\" class=\"data row7 col3\" >0.247</td>\n",
       "      <td id=\"T_73d55_row7_col4\" class=\"data row7 col4\" >0.375</td>\n",
       "    </tr>\n",
       "    <tr>\n",
       "      <th id=\"T_73d55_level0_row8\" class=\"row_heading level0 row8\" >8</th>\n",
       "      <td id=\"T_73d55_row8_col0\" class=\"data row8 col0\" >question_presupposition</td>\n",
       "      <td id=\"T_73d55_row8_col1\" class=\"data row8 col1\" >0.619</td>\n",
       "      <td id=\"T_73d55_row8_col2\" class=\"data row8 col2\" >0.587</td>\n",
       "      <td id=\"T_73d55_row8_col3\" class=\"data row8 col3\" >0.712</td>\n",
       "      <td id=\"T_73d55_row8_col4\" class=\"data row8 col4\" >0.692</td>\n",
       "    </tr>\n",
       "    <tr>\n",
       "      <th id=\"T_73d55_level0_row9\" class=\"row_heading level0 row9\" >9</th>\n",
       "      <td id=\"T_73d55_row9_col0\" class=\"data row9 col0\" >ALL</td>\n",
       "      <td id=\"T_73d55_row9_col1\" class=\"data row9 col1\" >0.465</td>\n",
       "      <td id=\"T_73d55_row9_col2\" class=\"data row9 col2\" >0.457</td>\n",
       "      <td id=\"T_73d55_row9_col3\" class=\"data row9 col3\" >0.483</td>\n",
       "      <td id=\"T_73d55_row9_col4\" class=\"data row9 col4\" >0.494</td>\n",
       "    </tr>\n",
       "  </tbody>\n",
       "</table>\n"
      ],
      "text/plain": [
       "<pandas.io.formats.style.Styler at 0x1f374125ed0>"
      ]
     },
     "metadata": {},
     "output_type": "display_data"
    }
   ],
   "source": [
    "import pandas as pd\n",
    "from IPython.display import display\n",
    "\n",
    "\n",
    "def show_metrics_table(metrics_df, decimals=3):\n",
    "    # Round numeric columns safely\n",
    "    metrics_df_rounded = metrics_df.copy()\n",
    "    numeric_cols = [\"accuracy\", \"f1\", \"precision\", \"recall\"]\n",
    "    for col in numeric_cols:\n",
    "        if col in metrics_df_rounded.columns:\n",
    "            metrics_df_rounded[col] = pd.to_numeric(metrics_df_rounded[col], errors=\"coerce\").round(decimals)\n",
    "\n",
    "    # Style the DataFrame\n",
    "    styled = (\n",
    "        metrics_df_rounded.style\n",
    "        .set_table_styles(\n",
    "            [\n",
    "                {\"selector\": \"thead th\", \"props\": [(\"background-color\", \"#4CAF50\"),\n",
    "                                                   (\"color\", \"white\"),\n",
    "                                                   (\"font-weight\", \"bold\"),\n",
    "                                                   (\"text-align\", \"center\")]},\n",
    "                {\"selector\": \"tbody td\", \"props\": [(\"text-align\", \"center\")]}\n",
    "            ]\n",
    "        )\n",
    "        .bar(subset=numeric_cols, color=\"#87A7EBE8\")\n",
    "        .format({col: f\"{{:.{decimals}f}}\" for col in numeric_cols})\n",
    "    )\n",
    "\n",
    "    print(\"\\nBeautiful Results Table:\")\n",
    "    display(styled)\n",
    "\n",
    "\n",
    "# Example usage after evaluation:\n",
    "show_metrics_table(metrics_df)\n"
   ]
  },
  {
   "cell_type": "code",
   "execution_count": null,
   "id": "0092191d",
   "metadata": {},
   "outputs": [],
   "source": []
  }
 ],
 "metadata": {
  "kernelspec": {
   "display_name": "hw2",
   "language": "python",
   "name": "python3"
  },
  "language_info": {
   "codemirror_mode": {
    "name": "ipython",
    "version": 3
   },
   "file_extension": ".py",
   "mimetype": "text/x-python",
   "name": "python",
   "nbconvert_exporter": "python",
   "pygments_lexer": "ipython3",
   "version": "3.11.12"
  }
 },
 "nbformat": 4,
 "nbformat_minor": 5
}
