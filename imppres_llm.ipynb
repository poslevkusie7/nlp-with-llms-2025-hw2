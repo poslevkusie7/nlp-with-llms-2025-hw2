{
 "cells": [
  {
   "cell_type": "markdown",
   "id": "c468709d",
   "metadata": {},
   "source": [
    "# ImpPres with LLM\n",
    "\n",
    "You have to implement in this notebook a better ImpPres classifier using an LLM.\n",
    "This classifier must be implemented using DSPy.\n"
   ]
  },
  {
   "cell_type": "code",
   "execution_count": 1,
   "id": "2cec0d02",
   "metadata": {},
   "outputs": [],
   "source": [
    "# Configure the DSPy environment with the language model - for grok the parameters must be:\n",
    "# env variable should be in os.environ['XAI_API_KEY']\n",
    "# \"xai/grok-3-mini\"\n",
    "import os\n",
    "import dspy\n",
    "import api_key\n",
    "\n",
    "lm = dspy.LM('xai/grok-3-mini', api_key=api_key.grok_key)\n",
    "# for ollama \n",
    "# lm = dspy.LM('ollama_chat/devstral', api_base='http://localhost:11434', api_key='')\n",
    "dspy.configure(lm=lm)"
   ]
  },
  {
   "cell_type": "code",
   "execution_count": 2,
   "id": "b60da44b",
   "metadata": {},
   "outputs": [],
   "source": [
    "from typing import Literal\n",
    "\n",
    "class NLIClassifier(dspy.Signature):\n",
    "    \"\"\"Classify a premise-hypothesis pair into entailment, contradiction, or neutral.\"\"\"\n",
    "    premise = dspy.InputField(desc=\"The premise sentence\")\n",
    "    hypothesis = dspy.InputField(desc=\"The hypothesis sentence\")\n",
    "    label = dspy.OutputField(\n",
    "        desc=\"The NLI relation\",\n",
    "        format=Literal[\"entailment\", \"contradiction\", \"neutral\"]\n",
    "    )\n",
    "\n",
    "class NLIProgram(dspy.Program):\n",
    "    def __init__(self):\n",
    "        super().__init__()\n",
    "        self.classifier = dspy.Predict(NLIClassifier)\n",
    "\n",
    "    def forward(self, premise: str, hypothesis: str):\n",
    "        result = self.classifier(premise=premise, hypothesis=hypothesis)\n",
    "        return result.label"
   ]
  },
  {
   "cell_type": "markdown",
   "id": "17ab422d",
   "metadata": {},
   "source": [
    "## Load ImpPres Dataset"
   ]
  },
  {
   "cell_type": "markdown",
   "id": "ea8e1258",
   "metadata": {},
   "source": [
    "## Evaluate Metrics\n",
    "\n",
    "Let's use the huggingface `evaluate` package to compute the performance of the baseline.\n"
   ]
  },
  {
   "cell_type": "code",
   "execution_count": 6,
   "id": "0e2e9027",
   "metadata": {},
   "outputs": [],
   "source": [
    "from evaluate import load\n",
    "\n",
    "accuracy = load(\"accuracy\")\n",
    "precision = load(\"precision\")\n",
    "recall = load(\"recall\")\n",
    "f1 = load(\"f1\")\n"
   ]
  },
  {
   "cell_type": "code",
   "execution_count": 7,
   "id": "1ab24e1b",
   "metadata": {},
   "outputs": [],
   "source": [
    "import evaluate\n",
    "clf_metrics = evaluate.combine([\"accuracy\", \"f1\", \"precision\", \"recall\"])"
   ]
  },
  {
   "cell_type": "markdown",
   "id": "0909d58b",
   "metadata": {},
   "source": [
    "## Your Turn\n",
    "\n",
    "Compute the classification metrics on the baseline LLM model on each test section of the ANLI dataset for samples that have a non-empty 'reason' field.\n",
    "\n",
    "You also must show a comparison between the DeBERTa baseline model and this LLM baseline model. The comparison metric should compute the agreement between the two models:\n",
    "* On how many samples they are both correct [Correct]\n",
    "* On how many samples Model1 is correct and Model2 is incorrect [Correct1]\n",
    "* On how many samples Model1 is incorrect and Model2 is correct [Correct2]\n",
    "* On how many samples both are incorrect [Incorrect]"
   ]
  },
  {
   "cell_type": "markdown",
   "id": "a51fbc81",
   "metadata": {},
   "source": []
  },
  {
   "cell_type": "code",
   "execution_count": 3,
   "id": "a330df5a",
   "metadata": {},
   "outputs": [],
   "source": [
    "import pandas as pd\n",
    "from sklearn.metrics import accuracy_score\n",
    "from IPython.display import display"
   ]
  },
  {
   "cell_type": "code",
   "execution_count": 28,
   "id": "2f35ce23",
   "metadata": {},
   "outputs": [
    {
     "name": "stdout",
     "output_type": "stream",
     "text": [
      "Combined dataset shape: (5697, 11)\n",
      "Original size: (5697, 11)\n",
      "Sample size - 10%: (513, 11)\n"
     ]
    }
   ],
   "source": [
    "combined_df = pd.read_csv(\"combined_presuppositions.csv\")\n",
    "print(\"Combined dataset shape:\", combined_df.shape)\n",
    "# Sample 10% of paradigmIDs\n",
    "sampled_ids = combined_df[\"paradigmID\"].drop_duplicates().sample(frac=0.1, random_state=42)\n",
    "\n",
    "# Filter dataset\n",
    "filtered_df = combined_df[combined_df[\"paradigmID\"].isin(sampled_ids)].reset_index(drop=True)\n",
    "\n",
    "print(\"Original size:\", combined_df.shape)\n",
    "print(\"Sample size - 10%:\", filtered_df.shape)\n"
   ]
  },
  {
   "cell_type": "code",
   "execution_count": 29,
   "id": "0fb0f13e",
   "metadata": {},
   "outputs": [],
   "source": [
    "def paradigm_reward(y_true, y_pred, alpha=0.5):\n",
    "    acc = accuracy_score(y_true, y_pred)\n",
    "    majority = max(set(y_pred), key=y_pred.count)\n",
    "    consistency = sum(p == majority for p in y_pred) / len(y_pred)\n",
    "    return alpha * acc + (1 - alpha) * consistency\n",
    "\n",
    "\n",
    "def build_paradigm_examples(df):\n",
    "    examples = []\n",
    "    for paradigm_id, group in df.groupby(\"paradigmID\"):\n",
    "        group = group.sample(frac=1, random_state=42).reset_index(drop=True)\n",
    "        premises = group[\"premise\"].tolist()\n",
    "        hypotheses = group[\"hypothesis\"].tolist()\n",
    "        golds = group[\"gold_label\"].tolist()\n",
    "        examples.append(dspy.Example(\n",
    "            premises=premises,\n",
    "            hypotheses=hypotheses,\n",
    "            labels=golds,\n",
    "            section=group[\"section\"].iloc[0],\n",
    "            paradigmID=paradigm_id\n",
    "        ))\n",
    "    return examples\n",
    "\n",
    "\n",
    "# Use sampled data instead of full data\n",
    "train_examples = build_paradigm_examples(filtered_df)"
   ]
  },
  {
   "cell_type": "code",
   "execution_count": 30,
   "id": "26eb4042",
   "metadata": {},
   "outputs": [
    {
     "name": "stderr",
     "output_type": "stream",
     "text": [
      "  0%|          | 0/3 [00:00<?, ?it/s]2025/08/08 15:05:16 ERROR dspy.teleprompt.bootstrap: Failed to run or to evaluate example Example({'premises': ['Was Brad only spinning around?', 'Alan might have been climbing up ladders.', \"If Alan was climbing up ladders, it's okay.\", \"Does Carrie's spotlight that was scaring Barbara vanish?\", \"Monet doesn't find out why the glove shrank.\", 'It is James who is climbing up the stairs.', \"Carrie's spotlight that was scaring Barbara does vanish.\", 'Brad might have been only spinning around.', \"If Brad was only spinning around, it's okay.\", \"If Brad was only spinning around, it's okay.\", 'Monet might find out why the glove shrank.', \"Carrie's spotlight that was scaring Barbara doesn't vanish.\", \"If Alan was climbing up ladders, it's okay.\", \"All three libraries that haven't needed to listen to George didn't forget the waiter.\", 'Was Alan climbing up ladders?', 'Both senators who break a bicycle might have scratched.', \"If it is Gerald who is arguing about Sandra, it's okay\", 'Both senators who break a bicycle might have scratched.', \"Does Carrie's spotlight that was scaring Barbara vanish?\", \"Both senators who break a bicycle didn't scratch.\", \"It isn't Gerald who is arguing about Sandra.\", \"Monet doesn't find out why the glove shrank.\", 'Both senators who break a bicycle scratched.', \"Did all three libraries that haven't needed to listen to George forget the waiter?\", \"Carrie's spotlight that was scaring Barbara might vanish.\", \"If all three libraries that haven't needed to listen to George did forget the waiter, it's okay.\", \"If all three libraries that haven't needed to listen to George did forget the waiter, it's okay.\", \"Paul's doctor does cook.\", \"All three libraries that haven't needed to listen to George might have forgotten the waiter.\", \"If Brad was only spinning around, it's okay.\", \"If both senators who break a bicycle scratched, it's okay.\", \"If it is James who is climbing up the stairs, it's okay\", \"If Paul's doctor does cook, it's okay.\", 'It is James who is climbing up the stairs.', \"Paul's doctor doesn't cook.\", \"Brad wasn't only spinning around.\", \"If it is Gerald who is arguing about Sandra, it's okay\", \"Alan wasn't climbing up ladders.\", \"All three libraries that haven't needed to listen to George did forget the waiter.\", 'Brad was only spinning around.', 'Brad might have been only spinning around.', \"Paul's doctor might cook.\", \"Carrie's spotlight that was scaring Barbara doesn't vanish.\", \"If Carrie's spotlight that was scaring Barbara does vanish, it's okay.\", 'Did both senators who break a bicycle scratch.', \"If Carrie's spotlight that was scaring Barbara does vanish, it's okay.\", 'Monet finds out why the glove shrank.', 'Does Monet find out why the glove shrank?', 'It might be Gerald who is arguing about Sandra.', 'Both senators who break a bicycle might have scratched.', 'Is it James who is climbing up the stairs?', \"Both senators who break a bicycle didn't scratch.\", 'It might be James who is climbing up the stairs.', 'Is it Gerald who is arguing about Sandra?', \"Brad wasn't only spinning around.\", \"All three libraries that haven't needed to listen to George might have forgotten the waiter.\", 'It might be Gerald who is arguing about Sandra.', 'Brad was only spinning around.', \"Did all three libraries that haven't needed to listen to George forget the waiter?\", 'Did both senators who break a bicycle scratch.', 'It might be James who is climbing up the stairs.', \"Carrie's spotlight that was scaring Barbara doesn't vanish.\", 'Alan was climbing up ladders.', \"Alan wasn't climbing up ladders.\", \"All three libraries that haven't needed to listen to George didn't forget the waiter.\", \"If both senators who break a bicycle scratched, it's okay.\", 'It might be Gerald who is arguing about Sandra.', 'Does Monet find out why the glove shrank?', \"Paul's doctor might cook.\", \"All three libraries that haven't needed to listen to George might have forgotten the waiter.\", \"If Monet finds out why the glove shrank, it's okay.\", \"Paul's doctor doesn't cook.\", \"All three libraries that haven't needed to listen to George did forget the waiter.\", \"If Paul's doctor does cook, it's okay.\", \"Does Paul's doctor cook?\", 'Is it Gerald who is arguing about Sandra?', 'Was Alan climbing up ladders?', 'Was Brad only spinning around?', 'Both senators who break a bicycle might have scratched.', 'Alan was climbing up ladders.', 'Monet might find out why the glove shrank.', 'Did both senators who break a bicycle scratch.', \"Both senators who break a bicycle didn't scratch.\", \"If Paul's doctor does cook, it's okay.\", \"It isn't James who is climbing up the stairs.\", \"It isn't James who is climbing up the stairs.\", 'Is it James who is climbing up the stairs?', 'Alan was climbing up ladders.', 'Brad was only spinning around.', 'It might be James who is climbing up the stairs.', \"Paul's doctor does cook.\", \"If Monet finds out why the glove shrank, it's okay.\", \"Carrie's spotlight that was scaring Barbara might vanish.\", 'Alan might have been climbing up ladders.', \"If it is James who is climbing up the stairs, it's okay\", \"Carrie's spotlight that was scaring Barbara might vanish.\", \"It isn't Gerald who is arguing about Sandra.\", 'Is it Gerald who is arguing about Sandra?', \"If both senators who break a bicycle scratched, it's okay.\", \"Paul's doctor doesn't cook.\", \"If Paul's doctor does cook, it's okay.\", \"Carrie's spotlight that was scaring Barbara does vanish.\", \"It isn't Gerald who is arguing about Sandra.\", 'Monet might find out why the glove shrank.', \"Does Carrie's spotlight that was scaring Barbara vanish?\", \"Does Paul's doctor cook?\", 'Brad might have been only spinning around.', \"Alan wasn't climbing up ladders.\", \"All three libraries that haven't needed to listen to George didn't forget the waiter.\", \"Paul's doctor might cook.\", \"All three libraries that haven't needed to listen to George didn't forget the waiter.\", 'Does Monet find out why the glove shrank?', 'Alan might have been climbing up ladders.', 'Did both senators who break a bicycle scratch.', \"It isn't James who is climbing up the stairs.\", 'It is James who is climbing up the stairs.', \"Both senators who break a bicycle didn't scratch.\", 'Was Alan climbing up ladders?', \"Did all three libraries that haven't needed to listen to George forget the waiter?\", \"Alan wasn't climbing up ladders.\", \"If it is Gerald who is arguing about Sandra, it's okay\", \"Carrie's spotlight that was scaring Barbara doesn't vanish.\", \"Brad wasn't only spinning around.\", \"It isn't James who is climbing up the stairs.\", 'Is it James who is climbing up the stairs?', 'Monet finds out why the glove shrank.', 'Monet finds out why the glove shrank.', \"If it is James who is climbing up the stairs, it's okay\", \"Did all three libraries that haven't needed to listen to George forget the waiter?\", \"If all three libraries that haven't needed to listen to George did forget the waiter, it's okay.\", 'It is Gerald who is arguing about Sandra.', \"If Carrie's spotlight that was scaring Barbara does vanish, it's okay.\", \"Paul's doctor might cook.\", \"All three libraries that haven't needed to listen to George might have forgotten the waiter.\", \"It isn't Gerald who is arguing about Sandra.\", \"Monet doesn't find out why the glove shrank.\", \"Carrie's spotlight that was scaring Barbara does vanish.\", \"Carrie's spotlight that was scaring Barbara might vanish.\", \"Monet doesn't find out why the glove shrank.\", 'Is it Gerald who is arguing about Sandra?', 'Was Alan climbing up ladders?', \"If Brad was only spinning around, it's okay.\", \"If Alan was climbing up ladders, it's okay.\", 'Does Monet find out why the glove shrank?', 'It is Gerald who is arguing about Sandra.', 'Alan might have been climbing up ladders.', \"If it is James who is climbing up the stairs, it's okay\", 'Both senators who break a bicycle scratched.', 'It is Gerald who is arguing about Sandra.', \"If Monet finds out why the glove shrank, it's okay.\", \"Paul's doctor doesn't cook.\", \"If both senators who break a bicycle scratched, it's okay.\", 'Monet might find out why the glove shrank.', \"All three libraries that haven't needed to listen to George did forget the waiter.\", \"If Alan was climbing up ladders, it's okay.\", \"Does Carrie's spotlight that was scaring Barbara vanish?\", \"Does Paul's doctor cook?\", \"If Carrie's spotlight that was scaring Barbara does vanish, it's okay.\", 'Was Brad only spinning around?', \"Brad wasn't only spinning around.\", \"Paul's doctor does cook.\", 'It might be James who is climbing up the stairs.', 'It might be Gerald who is arguing about Sandra.', \"Does Paul's doctor cook?\", \"If Monet finds out why the glove shrank, it's okay.\", 'Both senators who break a bicycle scratched.', \"If it is Gerald who is arguing about Sandra, it's okay\", 'Brad might have been only spinning around.', \"If all three libraries that haven't needed to listen to George did forget the waiter, it's okay.\", 'Is it James who is climbing up the stairs?', 'Was Brad only spinning around?'], 'hypotheses': ['Brad was spinning around.', 'Alan was climbing up ladders.', 'Alan was climbing up ladders.', 'Carrie has exactly one spotlight that was scaring Barbara.', 'Every shoe shrank.', 'Exactly one person is climbing up mountains.', 'Martin has exactly one spotlight that was scaring Barbara.', 'Brad was spinning around.', 'Julia was spinning around.', \"Brad wasn't spinning around.\", \"The glove didn't shrink.\", \"Carrie doesn't have exactly one spotlight that was scaring Barbara.\", \"Alan didn't used to be at the bottom of ladders.\", \"All three libraries that haven't needed to listen to George did forget the waiter.\", \"Alan didn't used to be at the bottom of ladders.\", 'There are dozens of senators who break a bicycle.', 'Someone is arguing about Sandra', 'There are exactly two pedestrians who break a bicycle', \"Carrie doesn't have exactly one spotlight that was scaring Barbara.\", 'There are exactly two pedestrians who break a bicycle', 'Someone is arguing about Sandra', 'Monet finds out why the glove shrank.', 'There are exactly two senators who break a bicycle', \"All three libraries that haven't needed to listen to George did forget the waiter.\", 'Martin has exactly one spotlight that was scaring Barbara.', \"All three libraries that haven't needed to listen to George did forget the waiter.\", \"There are exactly three libraries that haven't needed to listen to George.\", 'Paul has a doctor.', \"There are exactly three libraries that haven't needed to listen to George.\", 'Brad was only spinning around.', 'There are exactly two senators who break a bicycle', 'Exactly one person is climbing up mountains.', \"Paul's doctor does cook.\", 'Exactly one person is climbing up the stairs.', 'Paul has a doctor.', 'Julia was spinning around.', 'It is Gerald who is arguing about Sandra.', \"Alan didn't used to be at the bottom of ladders.\", \"There are exactly three associations that haven't needed to listen to George.\", 'Brad was spinning around.', 'Brad was only spinning around.', \"Paul doesn't have a doctor.\", 'Carrie has exactly one spotlight that was scaring Barbara.', 'Carrie has exactly one spotlight that was scaring Barbara.', 'There are dozens of senators who break a bicycle.', 'Martin has exactly one spotlight that was scaring Barbara.', 'The glove shrank', \"The glove didn't shrink.\", 'Someone is arguing about Sandra', 'Both senators who break a bicycle scratched.', 'Exactly one person is climbing up the stairs.', 'There are exactly two senators who break a bicycle', 'It is James who is climbing up the stairs.', 'Someone was arguing about Dan', 'Brad was spinning around.', \"There are exactly three associations that haven't needed to listen to George.\", 'Someone was arguing about Dan', 'Julia was spinning around.', \"There are exactly three libraries that haven't needed to listen to George.\", 'There are exactly two pedestrians who break a bicycle', 'Exactly one person is climbing up the stairs.', \"Carrie's spotlight that was scaring Barbara does vanish.\", 'Alan used to be at the bottom of ladders.', 'Alan used to be at the bottom of ladders.', \"There are more than three libraries that haven't needed to listen to George.\", 'There are dozens of senators who break a bicycle.', 'No one is arguing about Sandra', 'Every shoe shrank.', 'Paul has a doctor.', \"There are more than three libraries that haven't needed to listen to George.\", 'The glove shrank', \"Paul doesn't have a doctor.\", \"There are exactly three libraries that haven't needed to listen to George.\", 'This teenager has a doctor.', 'Paul has a doctor.', 'No one is arguing about Sandra', 'Alan used to be at the bottom of ladders.', 'Brad was only spinning around.', 'There are exactly two senators who break a bicycle', 'Linda used to be at the bottom of ladders.', 'Every shoe shrank.', 'There are exactly two senators who break a bicycle', 'There are dozens of senators who break a bicycle.', 'Paul has a doctor.', 'Exactly one person is climbing up mountains.', 'Exactly one person is climbing up the stairs.', 'Exactly one person is climbing up mountains.', \"Alan didn't used to be at the bottom of ladders.\", \"Brad wasn't spinning around.\", 'More than one person is climbing up the stairs.', \"Paul doesn't have a doctor.\", 'Every shoe shrank.', \"Carrie doesn't have exactly one spotlight that was scaring Barbara.\", 'Alan used to be at the bottom of ladders.', 'It is James who is climbing up the stairs.', \"Carrie's spotlight that was scaring Barbara does vanish.\", 'No one is arguing about Sandra', 'It is Gerald who is arguing about Sandra.', 'There are exactly two pedestrians who break a bicycle', 'This teenager has a doctor.', \"Paul doesn't have a doctor.\", 'Carrie has exactly one spotlight that was scaring Barbara.', 'Someone was arguing about Dan', 'Monet finds out why the glove shrank.', 'Martin has exactly one spotlight that was scaring Barbara.', 'This teenager has a doctor.', \"Brad wasn't spinning around.\", 'Alan was climbing up ladders.', \"There are exactly three associations that haven't needed to listen to George.\", 'This teenager has a doctor.', \"There are exactly three libraries that haven't needed to listen to George.\", 'The glove shrank', 'Linda used to be at the bottom of ladders.', 'Both senators who break a bicycle scratched.', 'More than one person is climbing up the stairs.', 'More than one person is climbing up the stairs.', 'Both senators who break a bicycle scratched.', 'Linda used to be at the bottom of ladders.', \"There are more than three libraries that haven't needed to listen to George.\", 'Linda used to be at the bottom of ladders.', 'No one is arguing about Sandra', 'Martin has exactly one spotlight that was scaring Barbara.', 'Brad was only spinning around.', 'It is James who is climbing up the stairs.', 'More than one person is climbing up the stairs.', \"The glove didn't shrink.\", 'Every shoe shrank.', 'More than one person is climbing up the stairs.', \"There are exactly three associations that haven't needed to listen to George.\", \"There are more than three libraries that haven't needed to listen to George.\", 'Someone was arguing about Dan', \"Carrie doesn't have exactly one spotlight that was scaring Barbara.\", \"Paul's doctor does cook.\", \"All three libraries that haven't needed to listen to George did forget the waiter.\", 'It is Gerald who is arguing about Sandra.', 'The glove shrank', \"Carrie doesn't have exactly one spotlight that was scaring Barbara.\", 'Carrie has exactly one spotlight that was scaring Barbara.', \"The glove didn't shrink.\", 'Someone is arguing about Sandra', 'Alan was climbing up ladders.', 'Brad was spinning around.', 'Alan used to be at the bottom of ladders.', 'Monet finds out why the glove shrank.', 'No one is arguing about Sandra', \"Alan didn't used to be at the bottom of ladders.\", 'Exactly one person is climbing up the stairs.', 'There are exactly two pedestrians who break a bicycle', 'Someone is arguing about Sandra', \"The glove didn't shrink.\", \"Paul's doctor does cook.\", 'Both senators who break a bicycle scratched.', 'The glove shrank', \"There are more than three libraries that haven't needed to listen to George.\", 'Linda used to be at the bottom of ladders.', \"Carrie's spotlight that was scaring Barbara does vanish.\", \"Paul's doctor does cook.\", \"Carrie's spotlight that was scaring Barbara does vanish.\", 'Julia was spinning around.', \"Brad wasn't spinning around.\", 'This teenager has a doctor.', 'Exactly one person is climbing up mountains.', 'It is Gerald who is arguing about Sandra.', \"Paul doesn't have a doctor.\", 'Monet finds out why the glove shrank.', 'There are dozens of senators who break a bicycle.', 'Someone was arguing about Dan', 'Julia was spinning around.', \"There are exactly three associations that haven't needed to listen to George.\", 'It is James who is climbing up the stairs.', \"Brad wasn't spinning around.\"], 'labels': [0, 1, 1, 0, 1, 1, 1, 0, 1, 2, 2, 2, 2, 2, 2, 2, 0, 1, 2, 1, 0, 2, 0, 1, 1, 1, 0, 0, 0, 1, 0, 1, 1, 0, 0, 1, 1, 2, 1, 0, 1, 2, 0, 0, 2, 1, 0, 2, 0, 1, 0, 0, 1, 1, 0, 1, 1, 1, 0, 1, 0, 2, 0, 0, 2, 2, 2, 1, 0, 2, 0, 2, 0, 1, 0, 2, 0, 1, 0, 1, 1, 0, 2, 0, 1, 0, 1, 2, 2, 2, 2, 1, 2, 0, 1, 1, 2, 1, 1, 1, 2, 0, 1, 1, 1, 1, 2, 2, 1, 1, 0, 0, 1, 1, 2, 2, 2, 1, 2, 1, 2, 1, 2, 2, 2, 2, 1, 2, 1, 2, 1, 2, 1, 1, 2, 0, 2, 0, 2, 0, 1, 0, 0, 1, 2, 2, 0, 1, 0, 2, 2, 1, 0, 2, 1, 1, 1, 1, 1, 2, 1, 1, 1, 2, 1, 2, 1, 1, 1, 1, 2], 'section': 'only_presupposition', 'paradigmID': 15}) (input_keys=None) with <class '__main__.NLIProgram'> due to Inputs have not been set for this example. Use `example.with_inputs()` to set them..\n",
      "2025/08/08 15:05:16 ERROR dspy.teleprompt.bootstrap: Failed to run or to evaluate example Example({'premises': ['Does Sheila only clean this cup?', 'Boxes might be opening.', \"If boxes are opening, it's okay.\", \"Does Michelle's cafe that was falling irritate Alan?\", \"The governments don't forget about why this legislature did forget about who prods Christina to worry Jerry.\", 'It is Joseph that proved to freeze.', \"Michelle's cafe that was falling does irritate Alan.\", 'Sheila might only clean this cup.', \"If Sheila only cleans this cup, it's okay.\", \"If Sheila only cleans this cup, it's okay.\", 'The governments might forget about why this legislature did forget about who prods Christina to worry Jerry.', \"Michelle's cafe that was falling doesn't irritate Alan.\", \"If boxes are opening, it's okay.\", \"The five dishes that astounded Kenneth don't chip.\", 'Are boxes opening?', 'Both sketches that annoy Alexander might have been scaring Amanda.', \"If it is Jeffrey who did help Ruth, it's okay\", 'Both sketches that annoy Alexander might have been scaring Amanda.', \"Does Michelle's cafe that was falling irritate Alan?\", \"Both sketches that annoy Alexander weren't scaring Amanda.\", \"It isn't Jeffrey who did help Ruth.\", \"The governments don't forget about why this legislature did forget about who prods Christina to worry Jerry.\", 'Both sketches that annoy Alexander were scaring Amanda.', 'Do the five dishes that astounded Kenneth chip?', \"Michelle's cafe that was falling might irritate Alan.\", \"If the five dishes that astounded Kenneth chip, it's okay.\", \"If the five dishes that astounded Kenneth chip, it's okay.\", \"Carmen's cousins did want this senator to stun Wendy.\", 'The five dishes that astounded Kenneth might chip.', \"If Sheila only cleans this cup, it's okay.\", \"If both sketches that annoy Alexander were scaring Amanda, it's okay.\", \"If it is Joseph that proved to freeze, it's okay\", \"If Carmen's cousins did want this senator to stun Wendy, it's okay.\", 'It is Joseph that proved to freeze.', \"Carmen's cousins didn't want this senator to stun Wendy.\", \"Sheila doesn't only clean this cup.\", \"If it is Jeffrey who did help Ruth, it's okay\", \"Boxes aren't opening.\", 'The five dishes that astounded Kenneth chip.', 'Sheila only cleans this cup.', 'Sheila might only clean this cup.', \"Carmen's cousins might have wanted this senator to stun Wendy.\", \"Michelle's cafe that was falling doesn't irritate Alan.\", \"If Michelle's cafe that was falling does irritate Alan, it's okay.\", 'Were both sketches that annoy Alexander scaring Amanda?', \"If Michelle's cafe that was falling does irritate Alan, it's okay.\", 'The governments forget about why this legislature did forget about who prods Christina to worry Jerry.', 'Do the governments forget about why this legislature did forget about who prods Christina to worry Jerry?', 'It might be Jeffrey who did help Ruth.', 'Both sketches that annoy Alexander might have been scaring Amanda.', 'Is it Joseph that proved to freeze?', \"Both sketches that annoy Alexander weren't scaring Amanda.\", 'It might be Joseph that proved to freeze.', 'Is it Jeffrey who did help Ruth?', \"Sheila doesn't only clean this cup.\", 'The five dishes that astounded Kenneth might chip.', 'It might be Jeffrey who did help Ruth.', 'Sheila only cleans this cup.', 'Do the five dishes that astounded Kenneth chip?', 'Were both sketches that annoy Alexander scaring Amanda?', 'It might be Joseph that proved to freeze.', \"Michelle's cafe that was falling doesn't irritate Alan.\", 'Boxes are opening.', \"Boxes aren't opening.\", \"The five dishes that astounded Kenneth don't chip.\", \"If both sketches that annoy Alexander were scaring Amanda, it's okay.\", 'It might be Jeffrey who did help Ruth.', 'Do the governments forget about why this legislature did forget about who prods Christina to worry Jerry?', \"Carmen's cousins might have wanted this senator to stun Wendy.\", 'The five dishes that astounded Kenneth might chip.', \"If the governments forget about why this legislature did forget about who prods Christina to worry Jerry, it's okay.\", \"Carmen's cousins didn't want this senator to stun Wendy.\", 'The five dishes that astounded Kenneth chip.', \"If Carmen's cousins did want this senator to stun Wendy, it's okay.\", \"Did Carmen's cousins want this senator to stun Wendy?\", 'Is it Jeffrey who did help Ruth?', 'Are boxes opening?', 'Does Sheila only clean this cup?', 'Both sketches that annoy Alexander might have been scaring Amanda.', 'Boxes are opening.', 'The governments might forget about why this legislature did forget about who prods Christina to worry Jerry.', 'Were both sketches that annoy Alexander scaring Amanda?', \"Both sketches that annoy Alexander weren't scaring Amanda.\", \"If Carmen's cousins did want this senator to stun Wendy, it's okay.\", \"It isn't Joseph that proved to freeze.\", \"It isn't Joseph that proved to freeze.\", 'Is it Joseph that proved to freeze?', 'Boxes are opening.', 'Sheila only cleans this cup.', 'It might be Joseph that proved to freeze.', \"Carmen's cousins did want this senator to stun Wendy.\", \"If the governments forget about why this legislature did forget about who prods Christina to worry Jerry, it's okay.\", \"Michelle's cafe that was falling might irritate Alan.\", 'Boxes might be opening.', \"If it is Joseph that proved to freeze, it's okay\", \"Michelle's cafe that was falling might irritate Alan.\", \"It isn't Jeffrey who did help Ruth.\", 'Is it Jeffrey who did help Ruth?', \"If both sketches that annoy Alexander were scaring Amanda, it's okay.\", \"Carmen's cousins didn't want this senator to stun Wendy.\", \"If Carmen's cousins did want this senator to stun Wendy, it's okay.\", \"Michelle's cafe that was falling does irritate Alan.\", \"It isn't Jeffrey who did help Ruth.\", 'The governments might forget about why this legislature did forget about who prods Christina to worry Jerry.', \"Does Michelle's cafe that was falling irritate Alan?\", \"Did Carmen's cousins want this senator to stun Wendy?\", 'Sheila might only clean this cup.', \"Boxes aren't opening.\", \"The five dishes that astounded Kenneth don't chip.\", \"Carmen's cousins might have wanted this senator to stun Wendy.\", \"The five dishes that astounded Kenneth don't chip.\", 'Do the governments forget about why this legislature did forget about who prods Christina to worry Jerry?', 'Boxes might be opening.', 'Were both sketches that annoy Alexander scaring Amanda?', \"It isn't Joseph that proved to freeze.\", 'It is Joseph that proved to freeze.', \"Both sketches that annoy Alexander weren't scaring Amanda.\", 'Are boxes opening?', 'Do the five dishes that astounded Kenneth chip?', \"Boxes aren't opening.\", \"If it is Jeffrey who did help Ruth, it's okay\", \"Michelle's cafe that was falling doesn't irritate Alan.\", \"Sheila doesn't only clean this cup.\", \"It isn't Joseph that proved to freeze.\", 'Is it Joseph that proved to freeze?', 'The governments forget about why this legislature did forget about who prods Christina to worry Jerry.', 'The governments forget about why this legislature did forget about who prods Christina to worry Jerry.', \"If it is Joseph that proved to freeze, it's okay\", 'Do the five dishes that astounded Kenneth chip?', \"If the five dishes that astounded Kenneth chip, it's okay.\", 'It is Jeffrey who did help Ruth.', \"If Michelle's cafe that was falling does irritate Alan, it's okay.\", \"Carmen's cousins might have wanted this senator to stun Wendy.\", 'The five dishes that astounded Kenneth might chip.', \"It isn't Jeffrey who did help Ruth.\", \"The governments don't forget about why this legislature did forget about who prods Christina to worry Jerry.\", \"Michelle's cafe that was falling does irritate Alan.\", \"Michelle's cafe that was falling might irritate Alan.\", \"The governments don't forget about why this legislature did forget about who prods Christina to worry Jerry.\", 'Is it Jeffrey who did help Ruth?', 'Are boxes opening?', \"If Sheila only cleans this cup, it's okay.\", \"If boxes are opening, it's okay.\", 'Do the governments forget about why this legislature did forget about who prods Christina to worry Jerry?', 'It is Jeffrey who did help Ruth.', 'Boxes might be opening.', \"If it is Joseph that proved to freeze, it's okay\", 'Both sketches that annoy Alexander were scaring Amanda.', 'It is Jeffrey who did help Ruth.', \"If the governments forget about why this legislature did forget about who prods Christina to worry Jerry, it's okay.\", \"Carmen's cousins didn't want this senator to stun Wendy.\", \"If both sketches that annoy Alexander were scaring Amanda, it's okay.\", 'The governments might forget about why this legislature did forget about who prods Christina to worry Jerry.', 'The five dishes that astounded Kenneth chip.', \"If boxes are opening, it's okay.\", \"Does Michelle's cafe that was falling irritate Alan?\", \"Did Carmen's cousins want this senator to stun Wendy?\", \"If Michelle's cafe that was falling does irritate Alan, it's okay.\", 'Does Sheila only clean this cup?', \"Sheila doesn't only clean this cup.\", \"Carmen's cousins did want this senator to stun Wendy.\", 'It might be Joseph that proved to freeze.', 'It might be Jeffrey who did help Ruth.', \"Did Carmen's cousins want this senator to stun Wendy?\", \"If the governments forget about why this legislature did forget about who prods Christina to worry Jerry, it's okay.\", 'Both sketches that annoy Alexander were scaring Amanda.', \"If it is Jeffrey who did help Ruth, it's okay\", 'Sheila might only clean this cup.', \"If the five dishes that astounded Kenneth chip, it's okay.\", 'Is it Joseph that proved to freeze?', 'Does Sheila only clean this cup?'], 'hypotheses': ['Sheila cleans this cup.', 'Boxes are opening.', 'Boxes are opening.', 'Michelle has exactly one cafe that was falling.', 'Dana did forget about who prods Christina to worry Jerry.', 'Exactly one person proved to cure Valerie.', 'Margaret has exactly one cafe that was falling.', 'Sheila cleans this cup.', 'Tamara cleans this cup.', \"Sheila doesn't clean this cup.\", \"This legislature didn't forget about who prods Christina to worry Jerry.\", \"Michelle doesn't have exactly one cafe that was falling.\", \"Boxes didn't used to be closed.\", 'The five dishes that astounded Kenneth chip.', \"Boxes didn't used to be closed.\", \"There aren't exactly two sketches that annoy Alexander\", 'Someone did help Ruth', 'There are exactly two spotlights that annoy Alexander', \"Michelle doesn't have exactly one cafe that was falling.\", 'There are exactly two spotlights that annoy Alexander', 'Someone did help Ruth', 'The governments forget about why this legislature did forget about who prods Christina to worry Jerry.', 'There are exactly two sketches that annoy Alexander', 'The five dishes that astounded Kenneth chip.', 'Margaret has exactly one cafe that was falling.', 'The five dishes that astounded Kenneth chip.', 'There are exactly five dishes that astounded Kenneth.', 'Carmen has cousins.', 'There are exactly five dishes that astounded Kenneth.', 'Sheila only cleans this cup.', 'There are exactly two sketches that annoy Alexander', 'Exactly one person proved to cure Valerie.', \"Carmen's cousins did want this senator to stun Wendy.\", 'Exactly one person proved to freeze.', 'Carmen has cousins.', 'Tamara cleans this cup.', 'It is Jeffrey who did help Ruth.', \"Boxes didn't used to be closed.\", 'There are exactly five vases that astounded Kenneth.', 'Sheila cleans this cup.', 'Sheila only cleans this cup.', \"Carmen doesn't have cousins.\", 'Michelle has exactly one cafe that was falling.', 'Michelle has exactly one cafe that was falling.', \"There aren't exactly two sketches that annoy Alexander\", 'Margaret has exactly one cafe that was falling.', 'This legislature did forget about who prods Christina to worry Jerry', \"This legislature didn't forget about who prods Christina to worry Jerry.\", 'Someone did help Ruth', 'Both sketches that annoy Alexander were scaring Amanda.', 'Exactly one person proved to freeze.', 'There are exactly two sketches that annoy Alexander', 'It is Joseph that proved to freeze.', 'Someone does help Amelia', 'Sheila cleans this cup.', 'There are exactly five vases that astounded Kenneth.', 'Someone does help Amelia', 'Tamara cleans this cup.', 'There are exactly five dishes that astounded Kenneth.', 'There are exactly two spotlights that annoy Alexander', 'Exactly one person proved to freeze.', \"Michelle's cafe that was falling does irritate Alan.\", 'Boxes were closed.', 'Boxes were closed.', 'There are more than five dishes that astounded Kenneth.', \"There aren't exactly two sketches that annoy Alexander\", 'No one did help Ruth', 'Dana did forget about who prods Christina to worry Jerry.', 'Carmen has cousins.', 'There are more than five dishes that astounded Kenneth.', 'This legislature did forget about who prods Christina to worry Jerry', \"Carmen doesn't have cousins.\", 'There are exactly five dishes that astounded Kenneth.', 'Gerald has cousins.', 'Carmen has cousins.', 'No one did help Ruth', 'Boxes were closed.', 'Sheila only cleans this cup.', 'There are exactly two sketches that annoy Alexander', 'These gates were closed.', 'Dana did forget about who prods Christina to worry Jerry.', 'There are exactly two sketches that annoy Alexander', \"There aren't exactly two sketches that annoy Alexander\", 'Carmen has cousins.', 'Exactly one person proved to cure Valerie.', 'Exactly one person proved to freeze.', 'Exactly one person proved to cure Valerie.', \"Boxes didn't used to be closed.\", \"Sheila doesn't clean this cup.\", 'More than one person proved to freeze.', \"Carmen doesn't have cousins.\", 'Dana did forget about who prods Christina to worry Jerry.', \"Michelle doesn't have exactly one cafe that was falling.\", 'Boxes were closed.', 'It is Joseph that proved to freeze.', \"Michelle's cafe that was falling does irritate Alan.\", 'No one did help Ruth', 'It is Jeffrey who did help Ruth.', 'There are exactly two spotlights that annoy Alexander', 'Gerald has cousins.', \"Carmen doesn't have cousins.\", 'Michelle has exactly one cafe that was falling.', 'Someone does help Amelia', 'The governments forget about why this legislature did forget about who prods Christina to worry Jerry.', 'Margaret has exactly one cafe that was falling.', 'Gerald has cousins.', \"Sheila doesn't clean this cup.\", 'Boxes are opening.', 'There are exactly five vases that astounded Kenneth.', 'Gerald has cousins.', 'There are exactly five dishes that astounded Kenneth.', 'This legislature did forget about who prods Christina to worry Jerry', 'These gates were closed.', 'Both sketches that annoy Alexander were scaring Amanda.', 'More than one person proved to freeze.', 'More than one person proved to freeze.', 'Both sketches that annoy Alexander were scaring Amanda.', 'These gates were closed.', 'There are more than five dishes that astounded Kenneth.', 'These gates were closed.', 'No one did help Ruth', 'Margaret has exactly one cafe that was falling.', 'Sheila only cleans this cup.', 'It is Joseph that proved to freeze.', 'More than one person proved to freeze.', \"This legislature didn't forget about who prods Christina to worry Jerry.\", 'Dana did forget about who prods Christina to worry Jerry.', 'More than one person proved to freeze.', 'There are exactly five vases that astounded Kenneth.', 'There are more than five dishes that astounded Kenneth.', 'Someone does help Amelia', \"Michelle doesn't have exactly one cafe that was falling.\", \"Carmen's cousins did want this senator to stun Wendy.\", 'The five dishes that astounded Kenneth chip.', 'It is Jeffrey who did help Ruth.', 'This legislature did forget about who prods Christina to worry Jerry', \"Michelle doesn't have exactly one cafe that was falling.\", 'Michelle has exactly one cafe that was falling.', \"This legislature didn't forget about who prods Christina to worry Jerry.\", 'Someone did help Ruth', 'Boxes are opening.', 'Sheila cleans this cup.', 'Boxes were closed.', 'The governments forget about why this legislature did forget about who prods Christina to worry Jerry.', 'No one did help Ruth', \"Boxes didn't used to be closed.\", 'Exactly one person proved to freeze.', 'There are exactly two spotlights that annoy Alexander', 'Someone did help Ruth', \"This legislature didn't forget about who prods Christina to worry Jerry.\", \"Carmen's cousins did want this senator to stun Wendy.\", 'Both sketches that annoy Alexander were scaring Amanda.', 'This legislature did forget about who prods Christina to worry Jerry', 'There are more than five dishes that astounded Kenneth.', 'These gates were closed.', \"Michelle's cafe that was falling does irritate Alan.\", \"Carmen's cousins did want this senator to stun Wendy.\", \"Michelle's cafe that was falling does irritate Alan.\", 'Tamara cleans this cup.', \"Sheila doesn't clean this cup.\", 'Gerald has cousins.', 'Exactly one person proved to cure Valerie.', 'It is Jeffrey who did help Ruth.', \"Carmen doesn't have cousins.\", 'The governments forget about why this legislature did forget about who prods Christina to worry Jerry.', \"There aren't exactly two sketches that annoy Alexander\", 'Someone does help Amelia', 'Tamara cleans this cup.', 'There are exactly five vases that astounded Kenneth.', 'It is Joseph that proved to freeze.', \"Sheila doesn't clean this cup.\"], 'labels': [0, 1, 1, 0, 1, 1, 1, 0, 1, 2, 2, 2, 2, 2, 2, 2, 0, 1, 2, 1, 0, 2, 0, 1, 1, 1, 0, 0, 0, 1, 0, 1, 1, 0, 0, 1, 1, 2, 1, 0, 1, 2, 0, 0, 2, 1, 0, 2, 0, 1, 0, 0, 1, 1, 0, 1, 1, 1, 0, 1, 0, 2, 0, 0, 2, 2, 2, 1, 0, 2, 0, 2, 0, 1, 0, 2, 0, 1, 0, 1, 1, 0, 2, 0, 1, 0, 1, 2, 2, 2, 2, 1, 2, 0, 1, 1, 2, 1, 1, 1, 2, 0, 1, 1, 1, 1, 2, 2, 1, 1, 0, 0, 1, 1, 2, 2, 2, 1, 2, 1, 2, 1, 2, 2, 2, 2, 1, 2, 1, 2, 1, 2, 1, 1, 2, 0, 2, 0, 2, 0, 1, 0, 0, 1, 2, 2, 0, 1, 0, 2, 2, 1, 0, 2, 1, 1, 1, 1, 1, 2, 1, 1, 1, 2, 1, 2, 1, 1, 1, 1, 2], 'section': 'only_presupposition', 'paradigmID': 19}) (input_keys=None) with <class '__main__.NLIProgram'> due to Inputs have not been set for this example. Use `example.with_inputs()` to set them..\n",
      "2025/08/08 15:05:16 ERROR dspy.teleprompt.bootstrap: Failed to run or to evaluate example Example({'premises': ['Did Brad only worry the actors?', 'Scott might have gotten a job.', \"If Scott got a job, it's okay.\", \"Did David's box that wasn't disgusting Marie look like those prints?\", \"Organizations don't realize when the skateboard accelerated.\", 'It is Kayla that hired Anne.', \"David's box that wasn't disgusting Marie did look like those prints.\", 'Brad might have only worried the actors.', \"If Brad only worried the actors, it's okay.\", \"If Brad only worried the actors, it's okay.\", 'Organizations might realize when the skateboard accelerated.', \"David's box that wasn't disgusting Marie didn't look like those prints.\", \"If Scott got a job, it's okay.\", \"The eight shirts that can't disturb Dennis don't disappear.\", 'Did Scott get a job?', 'Both customers who imagined Samuel hid all hills might litter.', \"If it is Barbara who commands Sandra's nieces to walk through some closet, it's okay\", 'Both customers who imagined Samuel hid all hills might litter.', \"Did David's box that wasn't disgusting Marie look like those prints?\", \"Both customers who imagined Samuel hid all hills don't litter.\", \"It isn't Barbara who commands Sandra's nieces to walk through some closet.\", \"Organizations don't realize when the skateboard accelerated.\", 'Both customers who imagined Samuel hid all hills do litter.', \"Do the eight shirts that can't disturb Dennis disappear?\", \"David's box that wasn't disgusting Marie might have looked like those prints.\", \"If the eight shirts that can't disturb Dennis disappear, it's okay.\", \"If the eight shirts that can't disturb Dennis disappear, it's okay.\", \"The Impressionists' rugs did look like these prints.\", \"The eight shirts that can't disturb Dennis might disappear.\", \"If Brad only worried the actors, it's okay.\", \"If both customers who imagined Samuel hid all hills do litter, it's okay.\", \"If it is Kayla that hired Anne, it's okay\", \"If the Impressionists' rugs did look like these prints, it's okay.\", 'It is Kayla that hired Anne.', \"The Impressionists' rugs didn't look like these prints.\", \"Brad didn't only worry the actors.\", \"If it is Barbara who commands Sandra's nieces to walk through some closet, it's okay\", \"Scott didn't get a job.\", \"The eight shirts that can't disturb Dennis disappear.\", 'Brad only worried the actors.', 'Brad might have only worried the actors.', \"The Impressionists' rugs might have looked like these prints.\", \"David's box that wasn't disgusting Marie didn't look like those prints.\", \"If David's box that wasn't disgusting Marie did look like those prints, it's okay.\", 'Do both customers who imagined Samuel hid all hills litter?', \"If David's box that wasn't disgusting Marie did look like those prints, it's okay.\", 'Organizations realize when the skateboard accelerated.', 'Do organizations realize when the skateboard accelerated?', \"It might be Barbara who commands Sandra's nieces to walk through some closet.\", 'Both customers who imagined Samuel hid all hills might litter.', 'Is it Kayla that hired Anne?', \"Both customers who imagined Samuel hid all hills don't litter.\", 'It might be Kayla that hired Anne.', \"Is it Barbara who commands Sandra's nieces to walk through some closet?\", \"Brad didn't only worry the actors.\", \"The eight shirts that can't disturb Dennis might disappear.\", \"It might be Barbara who commands Sandra's nieces to walk through some closet.\", 'Brad only worried the actors.', \"Do the eight shirts that can't disturb Dennis disappear?\", 'Do both customers who imagined Samuel hid all hills litter?', 'It might be Kayla that hired Anne.', \"David's box that wasn't disgusting Marie didn't look like those prints.\", 'Scott got a job.', \"Scott didn't get a job.\", \"The eight shirts that can't disturb Dennis don't disappear.\", \"If both customers who imagined Samuel hid all hills do litter, it's okay.\", \"It might be Barbara who commands Sandra's nieces to walk through some closet.\", 'Do organizations realize when the skateboard accelerated?', \"The Impressionists' rugs might have looked like these prints.\", \"The eight shirts that can't disturb Dennis might disappear.\", \"If organizations realize when the skateboard accelerated, it's okay.\", \"The Impressionists' rugs didn't look like these prints.\", \"The eight shirts that can't disturb Dennis disappear.\", \"If the Impressionists' rugs did look like these prints, it's okay.\", \"Did the Impressionists' rugs look like these prints?\", \"Is it Barbara who commands Sandra's nieces to walk through some closet?\", 'Did Scott get a job?', 'Did Brad only worry the actors?', 'Both customers who imagined Samuel hid all hills might litter.', 'Scott got a job.', 'Organizations might realize when the skateboard accelerated.', 'Do both customers who imagined Samuel hid all hills litter?', \"Both customers who imagined Samuel hid all hills don't litter.\", \"If the Impressionists' rugs did look like these prints, it's okay.\", \"It isn't Kayla that hired Anne.\", \"It isn't Kayla that hired Anne.\", 'Is it Kayla that hired Anne?', 'Scott got a job.', 'Brad only worried the actors.', 'It might be Kayla that hired Anne.', \"The Impressionists' rugs did look like these prints.\", \"If organizations realize when the skateboard accelerated, it's okay.\", \"David's box that wasn't disgusting Marie might have looked like those prints.\", 'Scott might have gotten a job.', \"If it is Kayla that hired Anne, it's okay\", \"David's box that wasn't disgusting Marie might have looked like those prints.\", \"It isn't Barbara who commands Sandra's nieces to walk through some closet.\", \"Is it Barbara who commands Sandra's nieces to walk through some closet?\", \"If both customers who imagined Samuel hid all hills do litter, it's okay.\", \"The Impressionists' rugs didn't look like these prints.\", \"If the Impressionists' rugs did look like these prints, it's okay.\", \"David's box that wasn't disgusting Marie did look like those prints.\", \"It isn't Barbara who commands Sandra's nieces to walk through some closet.\", 'Organizations might realize when the skateboard accelerated.', \"Did David's box that wasn't disgusting Marie look like those prints?\", \"Did the Impressionists' rugs look like these prints?\", 'Brad might have only worried the actors.', \"Scott didn't get a job.\", \"The eight shirts that can't disturb Dennis don't disappear.\", \"The Impressionists' rugs might have looked like these prints.\", \"The eight shirts that can't disturb Dennis don't disappear.\", 'Do organizations realize when the skateboard accelerated?', 'Scott might have gotten a job.', 'Do both customers who imagined Samuel hid all hills litter?', \"It isn't Kayla that hired Anne.\", 'It is Kayla that hired Anne.', \"Both customers who imagined Samuel hid all hills don't litter.\", 'Did Scott get a job?', \"Do the eight shirts that can't disturb Dennis disappear?\", \"Scott didn't get a job.\", \"If it is Barbara who commands Sandra's nieces to walk through some closet, it's okay\", \"David's box that wasn't disgusting Marie didn't look like those prints.\", \"Brad didn't only worry the actors.\", \"It isn't Kayla that hired Anne.\", 'Is it Kayla that hired Anne?', 'Organizations realize when the skateboard accelerated.', 'Organizations realize when the skateboard accelerated.', \"If it is Kayla that hired Anne, it's okay\", \"Do the eight shirts that can't disturb Dennis disappear?\", \"If the eight shirts that can't disturb Dennis disappear, it's okay.\", \"It is Barbara who commands Sandra's nieces to walk through some closet.\", \"If David's box that wasn't disgusting Marie did look like those prints, it's okay.\", \"The Impressionists' rugs might have looked like these prints.\", \"The eight shirts that can't disturb Dennis might disappear.\", \"It isn't Barbara who commands Sandra's nieces to walk through some closet.\", \"Organizations don't realize when the skateboard accelerated.\", \"David's box that wasn't disgusting Marie did look like those prints.\", \"David's box that wasn't disgusting Marie might have looked like those prints.\", \"Organizations don't realize when the skateboard accelerated.\", \"Is it Barbara who commands Sandra's nieces to walk through some closet?\", 'Did Scott get a job?', \"If Brad only worried the actors, it's okay.\", \"If Scott got a job, it's okay.\", 'Do organizations realize when the skateboard accelerated?', \"It is Barbara who commands Sandra's nieces to walk through some closet.\", 'Scott might have gotten a job.', \"If it is Kayla that hired Anne, it's okay\", 'Both customers who imagined Samuel hid all hills do litter.', \"It is Barbara who commands Sandra's nieces to walk through some closet.\", \"If organizations realize when the skateboard accelerated, it's okay.\", \"The Impressionists' rugs didn't look like these prints.\", \"If both customers who imagined Samuel hid all hills do litter, it's okay.\", 'Organizations might realize when the skateboard accelerated.', \"The eight shirts that can't disturb Dennis disappear.\", \"If Scott got a job, it's okay.\", \"Did David's box that wasn't disgusting Marie look like those prints?\", \"Did the Impressionists' rugs look like these prints?\", \"If David's box that wasn't disgusting Marie did look like those prints, it's okay.\", 'Did Brad only worry the actors?', \"Brad didn't only worry the actors.\", \"The Impressionists' rugs did look like these prints.\", 'It might be Kayla that hired Anne.', \"It might be Barbara who commands Sandra's nieces to walk through some closet.\", \"Did the Impressionists' rugs look like these prints?\", \"If organizations realize when the skateboard accelerated, it's okay.\", 'Both customers who imagined Samuel hid all hills do litter.', \"If it is Barbara who commands Sandra's nieces to walk through some closet, it's okay\", 'Brad might have only worried the actors.', \"If the eight shirts that can't disturb Dennis disappear, it's okay.\", 'Is it Kayla that hired Anne?', 'Did Brad only worry the actors?'], 'hypotheses': ['Brad worried the actors.', 'Scott got a job.', 'Scott got a job.', \"David has exactly one box that wasn't disgusting Marie.\", 'A lot of wheelbarrows accelerated.', 'Exactly one person hired this child.', \"Sara has exactly one box that wasn't disgusting Marie.\", 'Brad worried the actors.', 'Those pies worried the actors.', \"Brad didn't worry the actors.\", \"The skateboard didn't accelerate.\", \"David doesn't have exactly one box that wasn't disgusting Marie.\", \"Scott wasn't unemployed.\", \"The eight shirts that can't disturb Dennis disappear.\", \"Scott wasn't unemployed.\", \"There aren't exactly two customers who imagined Samuel hid all hills\", \"Someone commands Sandra's nieces to walk through some closet\", 'There are exactly two guests who imagined Samuel hid all hills', \"David doesn't have exactly one box that wasn't disgusting Marie.\", 'There are exactly two guests who imagined Samuel hid all hills', \"Someone commands Sandra's nieces to walk through some closet\", 'Organizations realize when the skateboard accelerated.', 'There are exactly two customers who imagined Samuel hid all hills', \"The eight shirts that can't disturb Dennis disappear.\", \"Sara has exactly one box that wasn't disgusting Marie.\", \"The eight shirts that can't disturb Dennis disappear.\", \"There are exactly eight shirts that can't disturb Dennis.\", 'The Impressionists have rugs.', \"There are exactly eight shirts that can't disturb Dennis.\", 'Brad only worried the actors.', 'There are exactly two customers who imagined Samuel hid all hills', 'Exactly one person hired this child.', \"The Impressionists' rugs did look like these prints.\", 'Exactly one person hired Anne.', 'The Impressionists have rugs.', 'Those pies worried the actors.', \"It is Barbara who commands Sandra's nieces to walk through some closet.\", \"Scott wasn't unemployed.\", \"There are exactly eight malls that can't disturb Dennis.\", 'Brad worried the actors.', 'Brad only worried the actors.', \"The Impressionists don't have rugs.\", \"David has exactly one box that wasn't disgusting Marie.\", \"David has exactly one box that wasn't disgusting Marie.\", \"There aren't exactly two customers who imagined Samuel hid all hills\", \"Sara has exactly one box that wasn't disgusting Marie.\", 'The skateboard accelerated', \"The skateboard didn't accelerate.\", \"Someone commands Sandra's nieces to walk through some closet\", 'Both customers who imagined Samuel hid all hills do litter.', 'Exactly one person hired Anne.', 'There are exactly two customers who imagined Samuel hid all hills', 'It is Kayla that hired Anne.', 'Someone commands Phillip to mutter', 'Brad worried the actors.', \"There are exactly eight malls that can't disturb Dennis.\", 'Someone commands Phillip to mutter', 'Those pies worried the actors.', \"There are exactly eight shirts that can't disturb Dennis.\", 'There are exactly two guests who imagined Samuel hid all hills', 'Exactly one person hired Anne.', \"David's box that wasn't disgusting Marie did look like those prints.\", 'Scott used to be unemployed.', 'Scott used to be unemployed.', \"There aren't exactly eight shirts that can't disturb Dennis.\", \"There aren't exactly two customers who imagined Samuel hid all hills\", \"No one commands Sandra's nieces to walk through some closet\", 'A lot of wheelbarrows accelerated.', 'The Impressionists have rugs.', \"There aren't exactly eight shirts that can't disturb Dennis.\", 'The skateboard accelerated', \"The Impressionists don't have rugs.\", \"There are exactly eight shirts that can't disturb Dennis.\", 'Veronica have rugs.', 'The Impressionists have rugs.', \"No one commands Sandra's nieces to walk through some closet\", 'Scott used to be unemployed.', 'Brad only worried the actors.', 'There are exactly two customers who imagined Samuel hid all hills', 'Travis used to be unemployed.', 'A lot of wheelbarrows accelerated.', 'There are exactly two customers who imagined Samuel hid all hills', \"There aren't exactly two customers who imagined Samuel hid all hills\", 'The Impressionists have rugs.', 'Exactly one person hired this child.', 'Exactly one person hired Anne.', 'Exactly one person hired this child.', \"Scott wasn't unemployed.\", \"Brad didn't worry the actors.\", 'More than one person hired Anne.', \"The Impressionists don't have rugs.\", 'A lot of wheelbarrows accelerated.', \"David doesn't have exactly one box that wasn't disgusting Marie.\", 'Scott used to be unemployed.', 'It is Kayla that hired Anne.', \"David's box that wasn't disgusting Marie did look like those prints.\", \"No one commands Sandra's nieces to walk through some closet\", \"It is Barbara who commands Sandra's nieces to walk through some closet.\", 'There are exactly two guests who imagined Samuel hid all hills', 'Veronica have rugs.', \"The Impressionists don't have rugs.\", \"David has exactly one box that wasn't disgusting Marie.\", 'Someone commands Phillip to mutter', 'Organizations realize when the skateboard accelerated.', \"Sara has exactly one box that wasn't disgusting Marie.\", 'Veronica have rugs.', \"Brad didn't worry the actors.\", 'Scott got a job.', \"There are exactly eight malls that can't disturb Dennis.\", 'Veronica have rugs.', \"There are exactly eight shirts that can't disturb Dennis.\", 'The skateboard accelerated', 'Travis used to be unemployed.', 'Both customers who imagined Samuel hid all hills do litter.', 'More than one person hired Anne.', 'More than one person hired Anne.', 'Both customers who imagined Samuel hid all hills do litter.', 'Travis used to be unemployed.', \"There aren't exactly eight shirts that can't disturb Dennis.\", 'Travis used to be unemployed.', \"No one commands Sandra's nieces to walk through some closet\", \"Sara has exactly one box that wasn't disgusting Marie.\", 'Brad only worried the actors.', 'It is Kayla that hired Anne.', 'More than one person hired Anne.', \"The skateboard didn't accelerate.\", 'A lot of wheelbarrows accelerated.', 'More than one person hired Anne.', \"There are exactly eight malls that can't disturb Dennis.\", \"There aren't exactly eight shirts that can't disturb Dennis.\", 'Someone commands Phillip to mutter', \"David doesn't have exactly one box that wasn't disgusting Marie.\", \"The Impressionists' rugs did look like these prints.\", \"The eight shirts that can't disturb Dennis disappear.\", \"It is Barbara who commands Sandra's nieces to walk through some closet.\", 'The skateboard accelerated', \"David doesn't have exactly one box that wasn't disgusting Marie.\", \"David has exactly one box that wasn't disgusting Marie.\", \"The skateboard didn't accelerate.\", \"Someone commands Sandra's nieces to walk through some closet\", 'Scott got a job.', 'Brad worried the actors.', 'Scott used to be unemployed.', 'Organizations realize when the skateboard accelerated.', \"No one commands Sandra's nieces to walk through some closet\", \"Scott wasn't unemployed.\", 'Exactly one person hired Anne.', 'There are exactly two guests who imagined Samuel hid all hills', \"Someone commands Sandra's nieces to walk through some closet\", \"The skateboard didn't accelerate.\", \"The Impressionists' rugs did look like these prints.\", 'Both customers who imagined Samuel hid all hills do litter.', 'The skateboard accelerated', \"There aren't exactly eight shirts that can't disturb Dennis.\", 'Travis used to be unemployed.', \"David's box that wasn't disgusting Marie did look like those prints.\", \"The Impressionists' rugs did look like these prints.\", \"David's box that wasn't disgusting Marie did look like those prints.\", 'Those pies worried the actors.', \"Brad didn't worry the actors.\", 'Veronica have rugs.', 'Exactly one person hired this child.', \"It is Barbara who commands Sandra's nieces to walk through some closet.\", \"The Impressionists don't have rugs.\", 'Organizations realize when the skateboard accelerated.', \"There aren't exactly two customers who imagined Samuel hid all hills\", 'Someone commands Phillip to mutter', 'Those pies worried the actors.', \"There are exactly eight malls that can't disturb Dennis.\", 'It is Kayla that hired Anne.', \"Brad didn't worry the actors.\"], 'labels': [0, 1, 1, 0, 1, 1, 1, 0, 1, 2, 2, 2, 2, 2, 2, 2, 0, 1, 2, 1, 0, 2, 0, 1, 1, 1, 0, 0, 0, 1, 0, 1, 1, 0, 0, 1, 1, 2, 1, 0, 1, 2, 0, 0, 2, 1, 0, 2, 0, 1, 0, 0, 1, 1, 0, 1, 1, 1, 0, 1, 0, 2, 0, 0, 2, 2, 2, 1, 0, 2, 0, 2, 0, 1, 0, 2, 0, 1, 0, 1, 1, 0, 2, 0, 1, 0, 1, 2, 2, 2, 2, 1, 2, 0, 1, 1, 2, 1, 1, 1, 2, 0, 1, 1, 1, 1, 2, 2, 1, 1, 0, 0, 1, 1, 2, 2, 2, 1, 2, 1, 2, 1, 2, 2, 2, 2, 1, 2, 1, 2, 1, 2, 1, 1, 2, 0, 2, 0, 2, 0, 1, 0, 0, 1, 2, 2, 0, 1, 0, 2, 2, 1, 0, 2, 1, 1, 1, 1, 1, 2, 1, 1, 1, 2, 1, 2, 1, 1, 1, 1, 2], 'section': 'only_presupposition', 'paradigmID': 27}) (input_keys=None) with <class '__main__.NLIProgram'> due to Inputs have not been set for this example. Use `example.with_inputs()` to set them..\n",
      "100%|██████████| 3/3 [00:00<00:00, 332.09it/s]\n"
     ]
    },
    {
     "name": "stdout",
     "output_type": "stream",
     "text": [
      "Bootstrapped 0 full traces after 2 examples for up to 1 rounds, amounting to 3 attempts.\n"
     ]
    }
   ],
   "source": [
    "teleprompter = dspy.BootstrapFewShot(\n",
    "    NLIProgram,\n",
    "    paradigm_reward\n",
    ")\n",
    "\n",
    "\n",
    "optimized_program = teleprompter.compile(student=NLIProgram(), trainset=train_examples)\n",
    "\n",
    "results = []\n",
    "for ex in train_examples:\n",
    "    preds = []\n",
    "    for p, h in zip(ex.premises, ex.hypotheses):\n",
    "        pred = optimized_program.forward(premise=p, hypothesis=h)\n",
    "        preds.append(pred)\n",
    "\n",
    "    preds_labels = [2 if p == \"entailment\" else 0 if p== \"contradiction\"else 1 for p in preds]\n",
    "    reward = paradigm_reward(preds_labels, ex[\"labels\"])\n",
    "    results.append({\n",
    "        \"section\": ex.section,\n",
    "        \"paradigmID\": ex.paradigmID,\n",
    "        \"accuracy\": accuracy_score(ex[\"labels\"], preds_labels),\n",
    "        \"consistency\": sum(p == max(set(preds), key=preds.count) for p in preds) / len(preds),\n",
    "        \"reward\": reward\n",
    "    })\n",
    "\n",
    "metrics_df = pd.DataFrame(results)"
   ]
  },
  {
   "cell_type": "code",
   "execution_count": 32,
   "id": "0b399d15",
   "metadata": {},
   "outputs": [
    {
     "name": "stdout",
     "output_type": "stream",
     "text": [
      "Paradigm-level Results:\n"
     ]
    },
    {
     "data": {
      "text/html": [
       "<div>\n",
       "<style scoped>\n",
       "    .dataframe tbody tr th:only-of-type {\n",
       "        vertical-align: middle;\n",
       "    }\n",
       "\n",
       "    .dataframe tbody tr th {\n",
       "        vertical-align: top;\n",
       "    }\n",
       "\n",
       "    .dataframe thead th {\n",
       "        text-align: right;\n",
       "    }\n",
       "</style>\n",
       "<table border=\"1\" class=\"dataframe\">\n",
       "  <thead>\n",
       "    <tr style=\"text-align: right;\">\n",
       "      <th></th>\n",
       "      <th>section</th>\n",
       "      <th>paradigmID</th>\n",
       "      <th>accuracy</th>\n",
       "      <th>consistency</th>\n",
       "      <th>reward</th>\n",
       "    </tr>\n",
       "  </thead>\n",
       "  <tbody>\n",
       "    <tr>\n",
       "      <th>0</th>\n",
       "      <td>only_presupposition</td>\n",
       "      <td>15</td>\n",
       "      <td>0.421053</td>\n",
       "      <td>0.660819</td>\n",
       "      <td>0.421053</td>\n",
       "    </tr>\n",
       "    <tr>\n",
       "      <th>1</th>\n",
       "      <td>only_presupposition</td>\n",
       "      <td>19</td>\n",
       "      <td>0.409357</td>\n",
       "      <td>0.643275</td>\n",
       "      <td>0.415205</td>\n",
       "    </tr>\n",
       "    <tr>\n",
       "      <th>2</th>\n",
       "      <td>only_presupposition</td>\n",
       "      <td>27</td>\n",
       "      <td>0.415205</td>\n",
       "      <td>0.649123</td>\n",
       "      <td>0.418129</td>\n",
       "    </tr>\n",
       "  </tbody>\n",
       "</table>\n",
       "</div>"
      ],
      "text/plain": [
       "               section  paradigmID  accuracy  consistency    reward\n",
       "0  only_presupposition          15  0.421053     0.660819  0.421053\n",
       "1  only_presupposition          19  0.409357     0.643275  0.415205\n",
       "2  only_presupposition          27  0.415205     0.649123  0.418129"
      ]
     },
     "metadata": {},
     "output_type": "display_data"
    },
    {
     "name": "stdout",
     "output_type": "stream",
     "text": [
      "Section-level Summary:\n"
     ]
    },
    {
     "data": {
      "text/html": [
       "<style type=\"text/css\">\n",
       "#T_b1aa6 thead th {\n",
       "  background-color: #4CAF50;\n",
       "  color: white;\n",
       "  font-weight: bold;\n",
       "  text-align: center;\n",
       "}\n",
       "#T_b1aa6 tbody td {\n",
       "  text-align: center;\n",
       "}\n",
       "#T_b1aa6_row0_col1, #T_b1aa6_row0_col2, #T_b1aa6_row0_col3, #T_b1aa6_row1_col1, #T_b1aa6_row1_col2, #T_b1aa6_row1_col3 {\n",
       "  width: 10em;\n",
       "  background: linear-gradient(90deg, #87A7EBE8 100.0%, transparent 100.0%);\n",
       "}\n",
       "</style>\n",
       "<table id=\"T_b1aa6\">\n",
       "  <thead>\n",
       "    <tr>\n",
       "      <th class=\"blank level0\" >&nbsp;</th>\n",
       "      <th id=\"T_b1aa6_level0_col0\" class=\"col_heading level0 col0\" >section</th>\n",
       "      <th id=\"T_b1aa6_level0_col1\" class=\"col_heading level0 col1\" >accuracy</th>\n",
       "      <th id=\"T_b1aa6_level0_col2\" class=\"col_heading level0 col2\" >consistency</th>\n",
       "      <th id=\"T_b1aa6_level0_col3\" class=\"col_heading level0 col3\" >reward</th>\n",
       "    </tr>\n",
       "  </thead>\n",
       "  <tbody>\n",
       "    <tr>\n",
       "      <th id=\"T_b1aa6_level0_row0\" class=\"row_heading level0 row0\" >0</th>\n",
       "      <td id=\"T_b1aa6_row0_col0\" class=\"data row0 col0\" >only_presupposition</td>\n",
       "      <td id=\"T_b1aa6_row0_col1\" class=\"data row0 col1\" >0.415000</td>\n",
       "      <td id=\"T_b1aa6_row0_col2\" class=\"data row0 col2\" >0.651000</td>\n",
       "      <td id=\"T_b1aa6_row0_col3\" class=\"data row0 col3\" >0.418000</td>\n",
       "    </tr>\n",
       "    <tr>\n",
       "      <th id=\"T_b1aa6_level0_row1\" class=\"row_heading level0 row1\" >1</th>\n",
       "      <td id=\"T_b1aa6_row1_col0\" class=\"data row1 col0\" >ALL</td>\n",
       "      <td id=\"T_b1aa6_row1_col1\" class=\"data row1 col1\" >0.415000</td>\n",
       "      <td id=\"T_b1aa6_row1_col2\" class=\"data row1 col2\" >0.651000</td>\n",
       "      <td id=\"T_b1aa6_row1_col3\" class=\"data row1 col3\" >0.418000</td>\n",
       "    </tr>\n",
       "  </tbody>\n",
       "</table>\n"
      ],
      "text/plain": [
       "<pandas.io.formats.style.Styler at 0x1da01a59e50>"
      ]
     },
     "metadata": {},
     "output_type": "display_data"
    }
   ],
   "source": [
    "section_summary = metrics_df.groupby(\"section\")[[\"accuracy\", \"consistency\", \"reward\"]].mean().reset_index()\n",
    "overall_summary = pd.DataFrame([{\n",
    "    \"section\": \"ALL\",\n",
    "    \"accuracy\": metrics_df[\"accuracy\"].mean(),\n",
    "    \"consistency\": metrics_df[\"consistency\"].mean(),\n",
    "    \"reward\": metrics_df[\"reward\"].mean()\n",
    "}])\n",
    "final_summary = pd.concat([section_summary, overall_summary], ignore_index=True)\n",
    "\n",
    "\n",
    "def show_metrics_table(metrics_df, decimals=3):\n",
    "    numeric_cols = [\"accuracy\", \"consistency\", \"reward\"]\n",
    "    metrics_df_rounded = metrics_df.copy()\n",
    "    for col in numeric_cols:\n",
    "        metrics_df_rounded[col] = metrics_df_rounded[col].round(decimals)\n",
    "    \n",
    "    styled = (\n",
    "        metrics_df_rounded.style\n",
    "        .set_table_styles([\n",
    "            {\"selector\": \"thead th\", \"props\": [(\"background-color\", \"#4CAF50\"),\n",
    "                                               (\"color\", \"white\"),\n",
    "                                               (\"font-weight\", \"bold\"),\n",
    "                                               (\"text-align\", \"center\")]},\n",
    "            {\"selector\": \"tbody td\", \"props\": [(\"text-align\", \"center\")]}\n",
    "        ])\n",
    "        .bar(subset=numeric_cols, color=\"#87A7EBE8\")\n",
    "    )\n",
    "    display(styled)\n",
    "\n",
    "print(\"Paradigm-level Results:\")\n",
    "display(metrics_df.head())\n",
    "\n",
    "print(\"Section-level Summary:\")\n",
    "show_metrics_table(final_summary)"
   ]
  }
 ],
 "metadata": {
  "kernelspec": {
   "display_name": "hw2",
   "language": "python",
   "name": "python3"
  },
  "language_info": {
   "codemirror_mode": {
    "name": "ipython",
    "version": 3
   },
   "file_extension": ".py",
   "mimetype": "text/x-python",
   "name": "python",
   "nbconvert_exporter": "python",
   "pygments_lexer": "ipython3",
   "version": "3.11.12"
  }
 },
 "nbformat": 4,
 "nbformat_minor": 5
}
